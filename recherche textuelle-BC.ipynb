{
 "cells": [
  {
   "cell_type": "markdown",
   "metadata": {},
   "source": [
    "# La recherche textuelle"
   ]
  },
  {
   "cell_type": "markdown",
   "metadata": {},
   "source": [
    "## Algorithme de Boyer-Moore de recherche textuelle"
   ]
  },
  {
   "cell_type": "code",
   "execution_count": 15,
   "metadata": {},
   "outputs": [],
   "source": [
    "# texte\n",
    "motif=\"AT-THAT\"\n",
    "texte=\"WHICH-FINALLY-HALTS.--AT-THAT-POINT.-MAY-BE-NOT-IF-IT-IS-AT-THAT-POINT.\"\n",
    "alphabet=\"WHIC-FNALYTS.OBE\""
   ]
  },
  {
   "cell_type": "markdown",
   "metadata": {},
   "source": [
    "### Retour sur la recherche simple\n",
    "\n",
    "Le script ci-dessous permet d'effectuer une recherche simple. i pointe un caractère du texte. j pointe un caractère du motif. Après chaque décalage du motif d'une case vers la droite, i et j sont initialisés à la fin du motif pour j et sur la lettre du texte coincidant avec la dernière lettre du motif pour i. La comparaison se fait à partir de la fin du motif et en remontant la chaîne."
   ]
  },
  {
   "cell_type": "code",
   "execution_count": 16,
   "metadata": {},
   "outputs": [],
   "source": [
    "def recherche(motif,texte):\n",
    "    \n",
    "    n=len(texte)\n",
    "    m=len(motif)\n",
    "    p=[]\n",
    "    \n",
    "    i=m-1\n",
    "    while i<n:\n",
    "        j=m-1\n",
    "        while j>-1 and texte[i]==motif[j]:\n",
    "            j=j-1 \n",
    "            i=i-1\n",
    "            \n",
    "        if j==-1:\n",
    "            p.append(i+1)\n",
    "            i=i+(m-j)\n",
    "        else:\n",
    "            i=i+(m-j) # m-j permet d'avancer le motif de 1 case vers la droite\n",
    "    return p"
   ]
  },
  {
   "cell_type": "markdown",
   "metadata": {},
   "source": [
    "### Algorithme de boyer moore limité à la règle du mauvais caractère\n",
    "\n",
    "L'algorithme de boyer moore parcours les lettres de la même manière que notre algorithme de recherche précédent. La seule différence est que quand deux lettres ne correspondent pas; le décalage est optimisé ie il est plus grand que celui de la recherche simple.\n",
    "\n",
    "Le décalage est pré-calculé (valeurs dans le dictionnaire d1 dont les clés sont les lettres de l'alphabet) à partir du motif selon la règle du mauvais caractère."
   ]
  },
  {
   "cell_type": "markdown",
   "metadata": {},
   "source": [
    "### Présentation de la règle du mauvais caractère\n",
    "\n",
    "```\n",
    "      i\n",
    "WHICH-FINALLY-HALTS.--AT-THAT-POINT\n",
    "AT-THAT\n",
    "      j\n",
    "\n",
    "(1) F et T ne correspondent pas. Or dans le motif, il n'y a pas de F. Il est donc inutile de faire correspondre ce F avec une lettre du motif. Le motif peut donc être décalé aprés le F.\n",
    "\n",
    "             i\n",
    "WHICH-FINALLY-HALTS.--AT-THAT-POINT\n",
    "       AT-THAT\n",
    "             j\n",
    "             \n",
    "(2) - et T ne correspondent pas. Or dans le motif, il y a un -. On peut donc décaler le motif de manière à faire correspondre ce caractère avec le texte (si il y a plusieurs -, on se limite par choix seulement à celui qui est le plus à droite et seulement s'il permet un décalage vers la droite).\n",
    "\n",
    "                 i\n",
    "WHICH-FINALLY-HALTS.--AT-THAT-POINT\n",
    "           AT-THAT\n",
    "                 j\n",
    "        \n",
    "                i        \n",
    "WHICH-FINALLY-HALTS.--AT-THAT-POINT\n",
    "           AT-THAT\n",
    "                j\n",
    "\n",
    "Le T correspond mais pas le L. Pour la même remarque (1), on décale le motif aprés le L.\n",
    "\n",
    "                       i        \n",
    "WHICH-FINALLY-HALTS.--AT-THAT-POINT\n",
    "                 AT-THAT\n",
    "                       j\n",
    "\n",
    "\n",
    "                      i        \n",
    "WHICH-FINALLY-HALTS.--AT-THAT-POINT\n",
    "                 AT-THAT\n",
    "                      j\n",
    "\n",
    "                     i        \n",
    "WHICH-FINALLY-HALTS.--AT-THAT-POINT\n",
    "                 AT-THAT\n",
    "                     j\n",
    "                     \n",
    "Le - ne correspond pas au H. Pour la même remarque (2), on aligne les deux -.\n",
    "\n",
    "                         i        \n",
    "WHICH-FINALLY-HALTS.--AT-THAT-POINT\n",
    "                   AT-THAT\n",
    "                         j\n",
    "\n",
    "\n",
    "                        i        \n",
    "WHICH-FINALLY-HALTS.--AT-THAT-POINT\n",
    "                   AT-THAT\n",
    "                        j\n",
    "\n",
    "Le - ne correspond pas au A. (2) on aligne les deux -.\n",
    "\n",
    "\n",
    "                            i        \n",
    "WHICH-FINALLY-HALTS.--AT-THAT-POINT\n",
    "                      AT-THAT\n",
    "                            j\n",
    "                            \n",
    "Le mot sera bien trouvé.\n",
    "\n",
    "```"
   ]
  },
  {
   "cell_type": "markdown",
   "metadata": {},
   "source": [
    "### Construction de la table de décalage du mauvais caractère\n",
    "\n",
    "Exemple avec AT-THAT\n",
    "\n",
    "Le pré-traitement consiste à calculer un dictionnnaire de décalage pour i si une lettre de correspond pas. Les clés de ce dictionnaire sont les lettres de l'alphabet utilisé.\n",
    "\n",
    "Si la lettre n'est pas dans le motif, le décalage est alors égal à la longueur du motif.\n",
    "\n",
    "Si la lettre est dans le motif, le décalage est alors égal à sa position comptée à partir de la fin. Si plusieurs lettres sont iddentiques, la position la plus à droite (sauf la dernière position) de chaque lettre est retenue.\n",
    "\n",
    "```\n",
    "Exemple:\n",
    "\n",
    "A T - T H A T      longueur du motif 7\n",
    "6 5 4 3 2 1 0\n",
    "\n",
    "dictionnaire des décalages pour chaque caractère\n",
    "\n",
    "A     1\n",
    "T     3 (T en position 0 est inutile)\n",
    "-     4\n",
    "H     2\n",
    "Autre 7\n",
    "\n",
    "```\n",
    "\n",
    "Attention on peut avoir des décalages dans le mauvais sens ou alors un décalage nul ! Pour cette raison, on doit comparer le décalage produit avec celui de la recherche simple\n",
    "\n",
    "```\n",
    "Situation 1\n",
    "\n",
    "           i\n",
    ".....XXXXXX-.....\n",
    "     AT-THAT\n",
    "     \n",
    "selon la table i sera incrémenté de 4\n",
    "\n",
    "               i\n",
    ".....XXXXXX-.....\n",
    "         AT-THAT\n",
    "         \n",
    "Situation 2\n",
    "\n",
    "          i\n",
    ".....XXXXX-T.....\n",
    "     AT-THAT\n",
    "\n",
    "Selon la table i sera incrémenté de 4\n",
    "\n",
    "              i\n",
    ".....XXXXX-T.....\n",
    "        AT-THAT\n",
    "        \n",
    "Situation 3\n",
    "\n",
    "        i\n",
    ".....XXXAHAT.....\n",
    "     AT-THAT\n",
    "     \n",
    "Selon la table i sera incrémenté de 1\n",
    "\n",
    "         i\n",
    ".....XXXAHAT.....\n",
    "   AT-THAT\n",
    "   \n",
    "Les A sont bien alignés mais le motif a reculé ! On préfére alors augmenter i de m-j comme dans le recherche simple. D'où la fonction max dans le script\n",
    "```"
   ]
  },
  {
   "cell_type": "code",
   "execution_count": 10,
   "metadata": {},
   "outputs": [],
   "source": [
    "# traitement pour la règle du mauvais caractère MC\n",
    "def pretraitement_MC(motif,alphabet):\n",
    "    m=len(motif)\n",
    "    d1=dict()\n",
    "    for c in alphabet:\n",
    "        d1[c]=m\n",
    "    for i in range(0,m-1):\n",
    "        d1[motif[i]]=m-1-i\n",
    "    return d1"
   ]
  },
  {
   "cell_type": "code",
   "execution_count": 11,
   "metadata": {},
   "outputs": [],
   "source": [
    "assert pretraitement_MC(\"AT-THAT\",\"WHIC-FNALYTS.OBE\")=={'W': 7, 'H': 2, 'I': 7, 'C': 7, '-': 4, 'F': 7, 'N': 7, 'A': 1,\n",
    "                                                        'L': 7, 'Y': 7, 'T': 3, 'S': 7, '.': 7, 'O': 7, 'B': 7,'E': 7}"
   ]
  },
  {
   "cell_type": "code",
   "execution_count": 12,
   "metadata": {},
   "outputs": [
    {
     "name": "stdout",
     "output_type": "stream",
     "text": [
      "AT-THAT\n",
      "WHIC-FNALYTS.OBE\n"
     ]
    },
    {
     "data": {
      "text/plain": [
       "{'W': 7,\n",
       " 'H': 2,\n",
       " 'I': 7,\n",
       " 'C': 7,\n",
       " '-': 4,\n",
       " 'F': 7,\n",
       " 'N': 7,\n",
       " 'A': 1,\n",
       " 'L': 7,\n",
       " 'Y': 7,\n",
       " 'T': 3,\n",
       " 'S': 7,\n",
       " '.': 7,\n",
       " 'O': 7,\n",
       " 'B': 7,\n",
       " 'E': 7}"
      ]
     },
     "execution_count": 12,
     "metadata": {},
     "output_type": "execute_result"
    }
   ],
   "source": [
    "print(motif)\n",
    "print(alphabet)\n",
    "pretraitement_MC(motif,alphabet)"
   ]
  },
  {
   "cell_type": "code",
   "execution_count": null,
   "metadata": {},
   "outputs": [],
   "source": [
    "# recherche avec la règle du mauvais caractère\n",
    "def recherche(motif,texte,alphabet):\n",
    "    \n",
    "    d=pretraitement_MC(motif,alphabet)\n",
    "    n=len(texte)\n",
    "    m=len(motif)\n",
    "    \n",
    "    i=m-1\n",
    "    while i<n:\n",
    "        print(texte)\n",
    "        print(\" \"*(i-m+1)+motif)\n",
    "        print()\n",
    "        j=m-1\n",
    "        while j>-1 and texte[i]==motif[j]:\n",
    "            j=j-1\n",
    "            i=i-1\n",
    "            \n",
    "        if j==-1:\n",
    "            return i+1,True\n",
    "        else:\n",
    "            i=i+max(d[texte[i]],m-j) # le décalage m-j est celui de la recherche simple dans le pire des cas\n",
    "                                     # en effet, si i a trop baissé d[texte[i]] ne permet pas de remonter suffisament haut\n",
    "    return i+1,False"
   ]
  },
  {
   "cell_type": "code",
   "execution_count": null,
   "metadata": {},
   "outputs": [],
   "source": [
    "print(motif)\n",
    "print(texte)\n",
    "recherche(motif,texte,alphabet)"
   ]
  },
  {
   "cell_type": "markdown",
   "metadata": {},
   "source": [
    "### A retenir\n",
    "\n",
    "1. L'Algorithme de boyer-moore est un algorithme de recherche textuelle\n",
    "2. Basé sur un pré traitement du motif avec un calcul de tables de décalage\n",
    "3. Il compare le texte et le motif en partant par la fin du motif. Si les lettres ne correspondent pas; il décale le motif\n",
    "4. Amélioration de type 5 fois mieux qu'un algo de recherche de base\n",
    "5. Pas terrible si peu de lettre dans l'alphabet\n"
   ]
  }
 ],
 "metadata": {
  "kernelspec": {
   "display_name": "Python 3",
   "language": "python",
   "name": "python3"
  },
  "language_info": {
   "codemirror_mode": {
    "name": "ipython",
    "version": 3
   },
   "file_extension": ".py",
   "mimetype": "text/x-python",
   "name": "python",
   "nbconvert_exporter": "python",
   "pygments_lexer": "ipython3",
   "version": "3.8.5"
  }
 },
 "nbformat": 4,
 "nbformat_minor": 4
}
