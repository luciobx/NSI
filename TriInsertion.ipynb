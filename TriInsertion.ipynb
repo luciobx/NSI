{
 "cells": [
  {
   "cell_type": "markdown",
   "metadata": {},
   "source": [
    "Document sous [licence CC BY-NC-SA 4.0](https://creativecommons.org/licenses/by-nc-sa/4.0/deed.fr)"
   ]
  },
  {
   "cell_type": "markdown",
   "metadata": {},
   "source": [
    "# Tri par insertion\n",
    "\n",
    "Le tri par insertion est le tri du joueur de cartes.\n",
    "\n",
    "## insertion dans une liste triée\n",
    "\n",
    "### l'idée\n",
    "\n",
    "Il repose sur un algorithme d'insertion d'un nouvel élément dans un tableau déjà trié.\n",
    "\n",
    "Imaginons que vous ayez déjà une main de cartes que vous avez rangées dans l'ordre.\n",
    "\n",
    "![title](main.jpg)\n",
    "\n",
    "Vous tirez une nouvelle carte, qu'il va falloir ranger à sa place.\n",
    "\n",
    "Du point de vue informatique, on peut faire de même : on imagine que la main courante est par exemple\n",
    "`main = [3,5,9,13]`\n",
    "et on insère un nouvel entier, par exemple 8, dans cette liste triée, qu'on veut ranger à sa place.\n",
    "\n",
    "On peut commencer par l'ajouter à la main en fin de liste : `main.append(8)`.\n",
    "\n",
    "Il s'agit maintenant de faire reculer le 8 tant que le terme qui le précède dans la liste est plus grand que lui.\n",
    "\n",
    "Donc, consécutivement :\n",
    "\n",
    "3 5 9 13 8\n",
    "\n",
    "3 5 9 8 13\n",
    "\n",
    "3 5 8 9 13\n",
    "\n",
    "et le tour est joué !\n",
    "\n",
    "### la programmation\n"
   ]
  },
  {
   "cell_type": "code",
   "execution_count": 2,
   "metadata": {
    "ExecuteTime": {
     "end_time": "2019-06-08T08:30:38.340077Z",
     "start_time": "2019-06-08T08:30:38.323482Z"
    }
   },
   "outputs": [],
   "source": [
    "def insertion(main,x):\n",
    "    '''insère à sa place un nouvel élément x dans une liste main déjà triée en ordre croissant'''\n",
    "    main.append(x)\n",
    "    i = len(main)-1\n",
    "    while i>0 and main[i-1] > x: \n",
    "    # il y a de la place à gauche, et le terme de gauche est plus grand\n",
    "        main[i] = main[i-1] # je pousse à droite le terme de gauche, pour laisser la place à x\n",
    "        i = i-1\n",
    "    main[i] = x  # je range x à sa place\n",
    "    return main"
   ]
  },
  {
   "cell_type": "code",
   "execution_count": 4,
   "metadata": {
    "ExecuteTime": {
     "end_time": "2019-06-08T08:30:58.068049Z",
     "start_time": "2019-06-08T08:30:58.050309Z"
    }
   },
   "outputs": [
    {
     "data": {
      "text/plain": [
       "[3, 5, 8, 9, 13]"
      ]
     },
     "execution_count": 4,
     "metadata": {},
     "output_type": "execute_result"
    }
   ],
   "source": [
    "insertion([3,5,9,13],8)"
   ]
  },
  {
   "cell_type": "code",
   "execution_count": 3,
   "metadata": {
    "ExecuteTime": {
     "end_time": "2019-06-08T08:30:54.342314Z",
     "start_time": "2019-06-08T08:30:54.317854Z"
    }
   },
   "outputs": [
    {
     "data": {
      "text/plain": [
       "[3, 5, 9, 13, 16]"
      ]
     },
     "execution_count": 3,
     "metadata": {},
     "output_type": "execute_result"
    }
   ],
   "source": [
    "insertion([3,5,9,13],16)"
   ]
  },
  {
   "cell_type": "code",
   "execution_count": 4,
   "metadata": {},
   "outputs": [
    {
     "data": {
      "text/plain": [
       "[2, 3, 5, 9, 13]"
      ]
     },
     "execution_count": 4,
     "metadata": {},
     "output_type": "execute_result"
    }
   ],
   "source": [
    "insertion([3,5,9,13],2)"
   ]
  },
  {
   "cell_type": "markdown",
   "metadata": {},
   "source": [
    "Le lecteur attentif aura remarqué que je ne range `x` que tout à la fin : en effet, `i` garde en mémoire l'index du « trou » que je prépare pour ranger `x`, que je n'ai pas besoin de placer avant d'avoir trouvé sa place.\n",
    "\n",
    "En outre, il faut faire attention à ne pas oublier la condition `i>0` dans le test de la boucle `while` : si `x` est plus petit que tous les éléments de la main de départ, il faudra balayer la liste en entier ! Si j'oublie ce test `i>0`, l'évaluation de `insertion([3,5,9,13],2)` faillira (essayez !). C'est un nouvel exemple de l'utilité d'un jeu de test bien choisi.\n",
    "\n",
    "### la complexité\n",
    "\n",
    "Évaluer la complexité de cette insertion, c'est évaluer le nombre de passages dans la boucle `while` en fonction de $n$, la taille de la main de départ.\n",
    "\n",
    "Si `x` est supérieur à tous les éléments de la main de départ, la boucle s'arrête immédiatement, on est passé 0 fois dans la boucle.\n",
    "\n",
    "Inversement, si `x` est inférieur à tous les éléments, la boucle va s'exécuter pour `i` variant de $n$ à 1 (on s'arrête pour `i==0`). Donc il y aura $n$ passages dans la boucle.\n",
    "\n",
    "Récapitulons : \n",
    "- coût dans le cas favorable $O(1)$ ;\n",
    "- côut dans le cas défavorable $O(n)$ ;\n",
    "- coût dans le cas moyen $O(n/2)$."
   ]
  },
  {
   "cell_type": "markdown",
   "metadata": {},
   "source": [
    "## Le tri par insertion\n",
    "\n",
    "On se donne une liste `pioche` d'éléments, qu'on veut trier en ordre croissant.\n",
    "\n",
    "La première idée qui vient est d'insérer un à un les éléments de la liste `pioche` dans une `main` initialement vide."
   ]
  },
  {
   "cell_type": "code",
   "execution_count": 5,
   "metadata": {},
   "outputs": [],
   "source": [
    "def triInsertion1(pioche):\n",
    "    main = []\n",
    "    for x in pioche: \n",
    "        insertion(main,x)\n",
    "    return main"
   ]
  },
  {
   "cell_type": "code",
   "execution_count": 6,
   "metadata": {},
   "outputs": [
    {
     "data": {
      "text/plain": [
       "[1, 2, 4, 7, 13, 15]"
      ]
     },
     "execution_count": 6,
     "metadata": {},
     "output_type": "execute_result"
    }
   ],
   "source": [
    "triInsertion1([13,2,4,1,15,7])"
   ]
  },
  {
   "cell_type": "markdown",
   "metadata": {},
   "source": [
    "On est content : ça marche très bien.\n",
    "\n",
    "En outre la complexité en temps est facile à calculer : dans le cas défavorable, on compte \n",
    "$0 + 1 + 2 + \\cdots + n-1={n(n-1)\\over2}=O(n^2)$.\n",
    "\n",
    "\n",
    "Si on préfère, on peut réécrire le `triInsertion` en un seul bloc."
   ]
  },
  {
   "cell_type": "code",
   "execution_count": 7,
   "metadata": {},
   "outputs": [],
   "source": [
    "def triInsertion2(pioche):\n",
    "    main = []\n",
    "    for x in pioche:\n",
    "        main.append(x)\n",
    "        i = len(main)-1\n",
    "        while i>0 and main[i-1] > x:\n",
    "            main[i] = main[i-1]\n",
    "            i = i - 1\n",
    "        main[i] = x\n",
    "    return main"
   ]
  },
  {
   "cell_type": "code",
   "execution_count": 8,
   "metadata": {},
   "outputs": [
    {
     "data": {
      "text/plain": [
       "[1, 2, 4, 7, 13, 15]"
      ]
     },
     "execution_count": 8,
     "metadata": {},
     "output_type": "execute_result"
    }
   ],
   "source": [
    "triInsertion2([13,2,4,1,15,7])"
   ]
  },
  {
   "cell_type": "markdown",
   "metadata": {},
   "source": [
    "### un tri en place\n",
    "\n",
    "On peut préférer écrire un tri en place. C'est-à-dire un tri sur une liste `atrier` qui n'utilise pas d'autre liste auxiliaire. Ici on a « déversé » successivement les éléments de la `pioche` dans la `main`, alors qu'on voudrait que tout se passe à l'intérieur de la liste `atrier`.\n",
    "\n",
    "Pour filer la métaphore du jeu de cartes, les débutants rangent leurs cartes au fur et à mesure qu'on les leur distribue, c'est la méthode que nous avons programmée jusqu'ici. Mais les joueurs experts attendent d'avoir toutes les cartes pour les ranger, c'est ce que nous allons faire maintenant.\n",
    "\n",
    "On conserve donc une unique liste `atrier`. Au fur et à mesure du tri, on fera grossir la main et diminuer la pioche.\n",
    "La main correspond aux éléments, déjà triés, qui seront sur la gauche de la liste `atrier`, et la pioche aux éléments qui restent à insérer, sur la droite de la liste `atrier`.\n",
    "\n",
    "Reprenant l'exemple du tri de `[13,2,4,1,15,7]`, après avoir trié les trois premiers éléments on se retrouve dans la situation suivante.\n",
    "\n",
    "![title](main-pioche.jpg)\n",
    "\n",
    "On écrit donc :"
   ]
  },
  {
   "cell_type": "code",
   "execution_count": 9,
   "metadata": {},
   "outputs": [],
   "source": [
    "def triInsertion(atrier):\n",
    "    for n in range(1,len(atrier)):\n",
    "        x = atrier[n] # le premier élément de la pioche\n",
    "        i = n\n",
    "        while i>0 and atrier[i-1] > x:\n",
    "            atrier[i] = atrier[i-1]\n",
    "            i = i - 1\n",
    "        atrier[i] = x\n",
    "    return atrier"
   ]
  },
  {
   "cell_type": "code",
   "execution_count": 10,
   "metadata": {},
   "outputs": [
    {
     "data": {
      "text/plain": [
       "[1, 2, 4, 7, 13, 15]"
      ]
     },
     "execution_count": 10,
     "metadata": {},
     "output_type": "execute_result"
    }
   ],
   "source": [
    "triInsertion([13,2,4,1,15,7])"
   ]
  },
  {
   "cell_type": "code",
   "execution_count": null,
   "metadata": {},
   "outputs": [],
   "source": []
  }
 ],
 "metadata": {
  "kernelspec": {
   "display_name": "Python 3",
   "language": "python",
   "name": "python3"
  },
  "language_info": {
   "codemirror_mode": {
    "name": "ipython",
    "version": 3
   },
   "file_extension": ".py",
   "mimetype": "text/x-python",
   "name": "python",
   "nbconvert_exporter": "python",
   "pygments_lexer": "ipython3",
   "version": "3.7.6"
  },
  "varInspector": {
   "cols": {
    "lenName": 16,
    "lenType": 16,
    "lenVar": 40
   },
   "kernels_config": {
    "python": {
     "delete_cmd_postfix": "",
     "delete_cmd_prefix": "del ",
     "library": "var_list.py",
     "varRefreshCmd": "print(var_dic_list())"
    },
    "r": {
     "delete_cmd_postfix": ") ",
     "delete_cmd_prefix": "rm(",
     "library": "var_list.r",
     "varRefreshCmd": "cat(var_dic_list()) "
    }
   },
   "types_to_exclude": [
    "module",
    "function",
    "builtin_function_or_method",
    "instance",
    "_Feature"
   ],
   "window_display": false
  }
 },
 "nbformat": 4,
 "nbformat_minor": 2
}
