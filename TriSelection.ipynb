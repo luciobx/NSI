{
 "cells": [
  {
   "cell_type": "markdown",
   "metadata": {},
   "source": [
    "# Tri par sélection\n",
    "\n",
    "Il s'agit du tri opéré par un animateur qui conserve sur ses fiches les scores des archer-e-s de son club pour les ranger en ordre croissant.\n",
    "\n",
    "Il prend le paquet de fiches, cherche le score le moins élevé, sort la fiche correspondante qu'il pose sur le côté.\n",
    "\n",
    "Puis il recommence, sort la fiche au score le plus bas et la pose sur la précédente.\n",
    "\n",
    "Et ainsi de suite : le paquet de fiches réduit peu à peu tandis que la pile triée grossit au fur et à mesure.\n",
    "\n",
    "En somme :"
   ]
  },
  {
   "cell_type": "code",
   "execution_count": 1,
   "metadata": {
    "ExecuteTime": {
     "end_time": "2019-06-05T10:44:02.765746Z",
     "start_time": "2019-06-05T10:44:02.756892Z"
    }
   },
   "outputs": [],
   "source": [
    "def triSelection1(paquet):\n",
    "    pileTriee = []\n",
    "    while len(paquet)>0:\n",
    "        f = extraitMinimum(paquet)\n",
    "        pileTriee.append(f)\n",
    "    return pileTriee"
   ]
  },
  {
   "cell_type": "markdown",
   "metadata": {},
   "source": [
    "Évidemment, la difficulté est dans l'écriture de la fonction d'extraction du minimum. Il s'agit d'une fonction qui renvoie la fiche de score minimal tout en modifiant son argument `paquet` puisque la fiche est **sortie** du paquet.\n",
    "\n",
    "On peut commencer par se rappeler comment on trouve le minimum d'un paquet :"
   ]
  },
  {
   "cell_type": "code",
   "execution_count": 2,
   "metadata": {
    "ExecuteTime": {
     "end_time": "2019-06-05T10:44:04.164832Z",
     "start_time": "2019-06-05T10:44:04.151469Z"
    }
   },
   "outputs": [],
   "source": [
    "def minimum(paquet):\n",
    "    m = paquet[0]\n",
    "    for x in paquet:\n",
    "        if x < m:\n",
    "            m = x\n",
    "    return m"
   ]
  },
  {
   "cell_type": "markdown",
   "metadata": {},
   "source": [
    "Remarque : on aurait pu éviter de comparer la première fiche à la valeur avec laquelle on initialise la variable `m`, puisque c'est la même. Mais ça aurait rendu le code moins lisible, ce qui est un objectif prioritaire.\n",
    "\n",
    "En réalité, on va plutôt avoir besoin de chercher l'indice du minimum dans le paquet."
   ]
  },
  {
   "cell_type": "code",
   "execution_count": 3,
   "metadata": {
    "ExecuteTime": {
     "end_time": "2019-06-05T10:44:05.279377Z",
     "start_time": "2019-06-05T10:44:05.272823Z"
    }
   },
   "outputs": [],
   "source": [
    "def indiceMinimum(paquet):\n",
    "    i, m = 0, paquet[0]\n",
    "    for k in range(1,len(paquet)):\n",
    "        if paquet[k] < m :\n",
    "            i, m = k, paquet[k]\n",
    "    return i"
   ]
  },
  {
   "cell_type": "markdown",
   "metadata": {},
   "source": [
    "Une fois cela préparé, on peut écrire une première version de `extraitMinimum`:"
   ]
  },
  {
   "cell_type": "code",
   "execution_count": 4,
   "metadata": {
    "ExecuteTime": {
     "end_time": "2019-06-05T10:44:06.390678Z",
     "start_time": "2019-06-05T10:44:06.380461Z"
    }
   },
   "outputs": [],
   "source": [
    "def extraitMinimum1(paquet):\n",
    "    i = indiceMinimum(paquet)\n",
    "    m = paquet[i]\n",
    "    paquet = paquet[:i]+paquet[i+1:]\n",
    "    return m"
   ]
  },
  {
   "cell_type": "code",
   "execution_count": 5,
   "metadata": {
    "ExecuteTime": {
     "end_time": "2019-06-05T10:44:07.17191Z",
     "start_time": "2019-06-05T10:44:07.166777Z"
    }
   },
   "outputs": [],
   "source": [
    "paquet = [12,7,3,6,4,15,8]"
   ]
  },
  {
   "cell_type": "code",
   "execution_count": 6,
   "metadata": {
    "ExecuteTime": {
     "end_time": "2019-06-05T10:44:07.53693Z",
     "start_time": "2019-06-05T10:44:07.516873Z"
    }
   },
   "outputs": [
    {
     "data": {
      "text/plain": [
       "3"
      ]
     },
     "execution_count": 6,
     "metadata": {},
     "output_type": "execute_result"
    }
   ],
   "source": [
    "extraitMinimum1(paquet)"
   ]
  },
  {
   "cell_type": "code",
   "execution_count": 7,
   "metadata": {
    "ExecuteTime": {
     "end_time": "2019-06-05T10:44:08.377513Z",
     "start_time": "2019-06-05T10:44:08.371824Z"
    }
   },
   "outputs": [
    {
     "data": {
      "text/plain": [
       "[12, 7, 3, 6, 4, 15, 8]"
      ]
     },
     "execution_count": 7,
     "metadata": {},
     "output_type": "execute_result"
    }
   ],
   "source": [
    "paquet"
   ]
  },
  {
   "cell_type": "markdown",
   "metadata": {},
   "source": [
    "La valeur renvoyée par `extraitMinimum1` est correcte.\n",
    "Mais en revanche la variable `paquet` n'a pas été modifiée : la fiche n'est pas sortie du paquet !\n",
    "\n",
    "En outre, on ne maîtrise pas bien la complexité de la fonction écrite, la concaténation de listes peut *coûter* plus cher qu'on pense...\n",
    "\n",
    "Il vaut mieux ici encore travailler **en place**. On va modifier la recherche du minimum en modifiant le paquet. Plutôt qu'extraire le minimum, on va déplacer la fiche correspondante en tête du paquet.\n",
    "\n",
    "Voilà ce que cela donne :"
   ]
  },
  {
   "cell_type": "code",
   "execution_count": 8,
   "metadata": {
    "ExecuteTime": {
     "end_time": "2019-06-05T10:44:10.723513Z",
     "start_time": "2019-06-05T10:44:10.716333Z"
    }
   },
   "outputs": [],
   "source": [
    "def minimumEnTete1(paquet):\n",
    "    i, m = 0, paquet[0]\n",
    "    for k in range(1,len(paquet)):\n",
    "        if paquet[k] < m :\n",
    "            i, m = k, paquet[k]\n",
    "    paquet[0], paquet[i] = paquet[i], paquet[0] # échange dans le tableau"
   ]
  },
  {
   "cell_type": "code",
   "execution_count": 9,
   "metadata": {
    "ExecuteTime": {
     "end_time": "2019-06-05T10:44:11.5575Z",
     "start_time": "2019-06-05T10:44:11.540644Z"
    }
   },
   "outputs": [
    {
     "data": {
      "text/plain": [
       "[3, 7, 12, 6, 4, 15, 8]"
      ]
     },
     "execution_count": 9,
     "metadata": {},
     "output_type": "execute_result"
    }
   ],
   "source": [
    "paquet = [12,7,3,6,4,15,8]\n",
    "minimumEnTete1(paquet)\n",
    "paquet"
   ]
  },
  {
   "cell_type": "markdown",
   "metadata": {},
   "source": [
    "L'idée du tri est maintenant la suivante : on applique `minimumEnTete` sur le paquet entier, plaçant ainsi en tête le minimum. Puis on recommence sur le reste du paquet, et ainsi de suite.\n",
    "\n",
    "On est obligé de modifier un peu `minimumEnTete` afin de travailler seulement sur une partie du paquet, depuis un certain indice."
   ]
  },
  {
   "cell_type": "code",
   "execution_count": 10,
   "metadata": {
    "ExecuteTime": {
     "end_time": "2019-06-05T10:44:13.270389Z",
     "start_time": "2019-06-05T10:44:13.252804Z"
    }
   },
   "outputs": [],
   "source": [
    "def minimumEnTete(paquet,depuis):\n",
    "    i, m = depuis, paquet[depuis]\n",
    "    for k in range(depuis+1,len(paquet)):\n",
    "        if paquet[k] < m :\n",
    "            i, m = k, paquet[k]\n",
    "    paquet[depuis], paquet[i] = paquet[i], paquet[depuis]"
   ]
  },
  {
   "cell_type": "code",
   "execution_count": 11,
   "metadata": {
    "ExecuteTime": {
     "end_time": "2019-06-05T10:44:14.097684Z",
     "start_time": "2019-06-05T10:44:14.089726Z"
    }
   },
   "outputs": [],
   "source": [
    "def triSelection(paquet):\n",
    "    for depuis in range(len(paquet)-1):\n",
    "        minimumEnTete(paquet,depuis)\n",
    "    return paquet"
   ]
  },
  {
   "cell_type": "code",
   "execution_count": 12,
   "metadata": {
    "ExecuteTime": {
     "end_time": "2019-06-05T10:44:14.562797Z",
     "start_time": "2019-06-05T10:44:14.556673Z"
    }
   },
   "outputs": [
    {
     "data": {
      "text/plain": [
       "[3, 4, 6, 7, 8, 12, 15]"
      ]
     },
     "execution_count": 12,
     "metadata": {},
     "output_type": "execute_result"
    }
   ],
   "source": [
    "triSelection([12,7,3,6,4,15,8])"
   ]
  },
  {
   "cell_type": "code",
   "execution_count": 13,
   "metadata": {
    "ExecuteTime": {
     "end_time": "2019-06-05T10:44:15.102599Z",
     "start_time": "2019-06-05T10:44:15.092307Z"
    }
   },
   "outputs": [
    {
     "data": {
      "text/plain": [
       "[]"
      ]
     },
     "execution_count": 13,
     "metadata": {},
     "output_type": "execute_result"
    }
   ],
   "source": [
    "triSelection([])"
   ]
  },
  {
   "cell_type": "code",
   "execution_count": 14,
   "metadata": {
    "ExecuteTime": {
     "end_time": "2019-06-05T10:44:15.638322Z",
     "start_time": "2019-06-05T10:44:15.627361Z"
    }
   },
   "outputs": [
    {
     "data": {
      "text/plain": [
       "[1, 2, 3, 4, 5]"
      ]
     },
     "execution_count": 14,
     "metadata": {},
     "output_type": "execute_result"
    }
   ],
   "source": [
    "triSelection([1,2,3,4,5])"
   ]
  },
  {
   "cell_type": "code",
   "execution_count": 15,
   "metadata": {
    "ExecuteTime": {
     "end_time": "2019-06-05T10:44:16.072662Z",
     "start_time": "2019-06-05T10:44:16.058906Z"
    }
   },
   "outputs": [
    {
     "data": {
      "text/plain": [
       "[1, 2, 3, 4, 5]"
      ]
     },
     "execution_count": 15,
     "metadata": {},
     "output_type": "execute_result"
    }
   ],
   "source": [
    "triSelection([5,4,3,2,1])"
   ]
  },
  {
   "cell_type": "markdown",
   "metadata": {},
   "source": [
    "### complexité\n",
    "\n",
    "Soit $n$ la taille du paquet à trier.\n",
    "\n",
    "La complexité d'un appel `minimumEnTete(paquet,depuis)` est liée à l'intervalle utilisé par sa boucle `for` : on peut l'évaluer à $n-1$ si `depuis` vaut 0, à $n-2$ si `depuis` vaut 1, etc.\n",
    "\n",
    "Or `triSelection` va appeler `minimumEnTete`pour les valeurs successives $0,1,2,\\cdots,n-2$ de `depuis`. Au total la complexité est donc $(n-1)+(n-2)+\\cdots+1={n(n-1)\\over2}=O(n^2)$."
   ]
  },
  {
   "cell_type": "code",
   "execution_count": null,
   "metadata": {},
   "outputs": [],
   "source": []
  },
  {
   "cell_type": "code",
   "execution_count": null,
   "metadata": {},
   "outputs": [],
   "source": []
  }
 ],
 "metadata": {
  "kernelspec": {
   "display_name": "Python 3",
   "language": "python",
   "name": "python3"
  },
  "language_info": {
   "codemirror_mode": {
    "name": "ipython",
    "version": 3
   },
   "file_extension": ".py",
   "mimetype": "text/x-python",
   "name": "python",
   "nbconvert_exporter": "python",
   "pygments_lexer": "ipython3",
   "version": "3.7.6"
  },
  "varInspector": {
   "cols": {
    "lenName": 16,
    "lenType": 16,
    "lenVar": 40
   },
   "kernels_config": {
    "python": {
     "delete_cmd_postfix": "",
     "delete_cmd_prefix": "del ",
     "library": "var_list.py",
     "varRefreshCmd": "print(var_dic_list())"
    },
    "r": {
     "delete_cmd_postfix": ") ",
     "delete_cmd_prefix": "rm(",
     "library": "var_list.r",
     "varRefreshCmd": "cat(var_dic_list()) "
    }
   },
   "types_to_exclude": [
    "module",
    "function",
    "builtin_function_or_method",
    "instance",
    "_Feature"
   ],
   "window_display": false
  }
 },
 "nbformat": 4,
 "nbformat_minor": 2
}
