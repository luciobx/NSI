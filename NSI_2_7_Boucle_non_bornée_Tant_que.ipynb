{
 "cells": [
  {
   "cell_type": "markdown",
   "metadata": {},
   "source": [
    "# La boucle non bornée : Tant_que... Fin_Tant_que\n",
    "## Introduction et définition\n",
    "\n",
    "> __Définition : la boucle *Tant_que* est une structure de contrôle permettant d'exécuter un ensemble d'instructions de façon répétée sur la base d'une précondition booléenne.__\n",
    "\n",
    "On utilise une __boucle non bornée *Tant_que* (`while` en Python)__ lorsqu'on ne connaît pas exactement le nombre de tâches répétitives que le programme doit exécuter. On parle aussi de __boucle à précondition__. C'est cette précondition qui déterminera si le bloc d'instructions contenu dans la boucle doit être exécuté.\n",
    "\n",
    "Voici une écriture d'une boucle non bornée en __pseudo-code__ :\n",
    "\n",
    ">TANT_QUE condition  \n",
    "&emsp;Bloc d'instructions  \n",
    "FIN_TANT_QUE\n",
    "\n",
    "En voici un __algorigramme__ :\n",
    "![Algorigramme Tant que](TantQue.png)\n",
    "\n",
    "On retiendra qu'__en Python, c'est l'instruction `while` qui permet d'initier une boucle non bornée__.\n",
    "\n",
    "```python\n",
    "while assertion:\n",
    "    # Bloc d'intructions à éxécuter tant que l'assertion est Vraie\n",
    "```"
   ]
  },
  {
   "cell_type": "markdown",
   "metadata": {},
   "source": [
    "## La boucle *Tant_que* par l'exemple\n",
    "\n",
    "Un exemple ci-dessous..."
   ]
  },
  {
   "cell_type": "code",
   "execution_count": null,
   "metadata": {
    "scrolled": true
   },
   "outputs": [],
   "source": [
    "reponse = input('Toujours partant ? ')\n",
    "\n",
    "while reponse != \"Je n'en peux plus\":\n",
    "    reponse = input('Toujours partant ? ')\n",
    "    \n",
    "print(\"Il suffisait de le dire !\")"
   ]
  },
  {
   "cell_type": "markdown",
   "metadata": {},
   "source": [
    "On voit bien dans le programme précédent qu'il est impossible de prédire combien de fois le bloc d'instructions inclus dans la boucle doit être exécuté. La boucle non bornée *Tant_que* est parfaitement adaptée dans ce cas.\n",
    "\n",
    "> __Remarques :__ deux écueils sont à éviter...\n",
    "- Si la condition au départ vaut Faux, la boucle `while` ne sera jamais exécutée.\n",
    "- Si la condition ne change jamais de valeur, la boucle `while` ne s'arrêtera pas et l'algorithme restera bloqué sur cette boucle (on parle alors de __divergence__, de __non terminaison__ ou de __boucle infinie__ et vous imaginez bien que c'est à éviter absolument).\n",
    "\n",
    "> __Autre remarques :__ \n",
    "- On peut __imbriquer plusieurs boucles `while`__.\n",
    "- Avec Python, il n'y a pas de *Fin_Tant_que* : c'est l'__indentation qui sert de limitateur de boucle__.\n",
    "- Contrairement à la boucle *Pour*, l'__initialisation et l'incrémentation du compteur__ ne sont pas gérées automatiquement par la boucle `while`."
   ]
  },
  {
   "cell_type": "markdown",
   "metadata": {},
   "source": [
    "## Ajout d'un compteur à une boucle non bornée\n",
    "\n",
    "Un exemple de compteur ci-dessous..."
   ]
  },
  {
   "cell_type": "code",
   "execution_count": null,
   "metadata": {},
   "outputs": [],
   "source": [
    "compteur = 0            # Initialisation\n",
    "while compteur <= 3:    # Condition de fin de boucle\n",
    "    print(f\"Il faut continuer car le compteur n'en est qu'à {compteur}\")\n",
    "    compteur += 1       # Incrémentation"
   ]
  },
  {
   "cell_type": "markdown",
   "metadata": {},
   "source": [
    "## Sortir d'une boucle prématurément avec `break`\n",
    "\n",
    "On a vu que la sortie d'une boucle non bornée est conditionnée à l'assertion initiale. Dans certains cas, __il peut être intéressant de sortir de la boucle sans avoir à retester cette assertion : c'est le rôle de l'instruction `break`__.\n",
    "\n",
    "L'instruction `break` est une instruction spéciale qui ne peut être écrite qu'à l'intérieur d'une boucle. `break`provoque l'interruption immédiate de la boucle : le tour en cours n'est pas terminé et les potentiels tours restant sont ignorés. L'exécution du programme continue donc après la boucle, comme si celle-ci s'était terminée normalement.\n",
    "\n",
    "En voici un exemple extrême..."
   ]
  },
  {
   "cell_type": "code",
   "execution_count": null,
   "metadata": {
    "scrolled": false
   },
   "outputs": [],
   "source": [
    "while True:\n",
    "    reponse = input('Toujours partant ? ')\n",
    "    if reponse == \"Je n'en peux plus\":\n",
    "        break\n",
    "print(\"Il suffisait de le dire !\")"
   ]
  },
  {
   "cell_type": "markdown",
   "metadata": {},
   "source": [
    "> __Remarque :__ dans le même esprit, on peut noter l'existence de l'instruction `continue` qui termine également l'itération courante mais reste dans la boucle (contrairement à `break` qui sort de la boucle)."
   ]
  },
  {
   "cell_type": "markdown",
   "metadata": {},
   "source": [
    "__Exercice :__ écrire un __programme qui tire un entier au sort entre 1 et 5 inclus puis demande à l'utilisateur de saisir un nombre__.\n",
    "\n",
    "Le programme doit redemander une saisie à l'utilisateur tant qu'il n'a pas trouvé le bon chiffre.\n",
    "\n",
    "Un message de félicitations sera affiché en cas de victoire."
   ]
  },
  {
   "cell_type": "code",
   "execution_count": null,
   "metadata": {},
   "outputs": [],
   "source": [
    "from random import randint\n",
    "\n",
    "tirage = randint(1, 5)\n",
    "# la variable tirage a pour valeur un entier compris de 1 à 5\n",
    "\n",
    "# Programme à compléter"
   ]
  },
  {
   "cell_type": "markdown",
   "metadata": {},
   "source": [
    "## Que retenir ?\n",
    "### À minima...\n",
    "\n",
    "- On utilise une boucle non bornée *Tant_que* (`while` en Python) lorsqu'on ne connaît pas exactement le nombre de tâches répétitives que le programme doit exécuter. \n",
    "- Une boucle `while` nécessite de définir une condition de sortie (assertion) bien réfléchie.\n",
    "- Si la condition ne change jamais de valeur, la boucle `while` ne s'arrêtera pas et l'algorithme restera bloqué sur cette boucle.\n",
    "- On peut imbriquer plusieurs boucles `while`.\n",
    "- Si on sait par avance combien de tours on doit effectuer, il ne faut pas utiliser la boucle _Tant_que_ mais la boucle _Pour_ car cette dernière est plus sûre (aucun risque de boucle infinie).\n",
    "\n",
    "### Au mieux...\n",
    "\n",
    "- On parle aussi de boucle à précondition. C'est cette précondition qui déterminera si le bloc d'instructions contenu dans la boucle doit être exécuté.\n",
    "- Contrairement à la boucle _Pour_, l'initialisation et l'incrémentation du compteur ne sont pas gérées automatiquement par la boucle `while`.\n",
    "- L'instruction `break` provoque l'interruption immédiate de la boucle : le tour en cours n'est pas terminé et les potentiels tours restant sont ignorés.\n",
    "- L'instruction `continue` termine également la boucle courante mais repart pour un nouveau tour de boucle."
   ]
  },
  {
   "cell_type": "markdown",
   "metadata": {},
   "source": [
    "---\n",
    "[![Licence CC BY NC SA](https://licensebuttons.net/l/by-nc-sa/3.0/88x31.png \"licence Creative Commons CC BY-NC-SA\")](http://creativecommons.org/licenses/by-nc-sa/3.0/fr/)\n",
    "<p style=\"text-align: center;\">Auteur : David Landry, Lycée Clemenceau - Nantes</p>\n",
    "<p style=\"text-align: center;\">D'après des documents partagés par...</p>\n",
    "<p style=\"text-align: center;\"><a  href=http://www.monlyceenumerique.fr/index_nsi.html#premiere>Jean-Christophe Gérard, Thomas Lourdet, Johan Monteillet, Pascal Thérèse</a></p>\n",
    "<p style=\"text-align: center;\"><a  href=https://www.nsi-premiere.fr/index.html>Manuel NSI, de Balabonski, Conchon, Filliâtre et Nguyen</a></p>"
   ]
  }
 ],
 "metadata": {
  "kernelspec": {
   "display_name": "Python 3",
   "language": "python",
   "name": "python3"
  },
  "language_info": {
   "codemirror_mode": {
    "name": "ipython",
    "version": 3
   },
   "file_extension": ".py",
   "mimetype": "text/x-python",
   "name": "python",
   "nbconvert_exporter": "python",
   "pygments_lexer": "ipython3",
   "version": "3.8.3"
  }
 },
 "nbformat": 4,
 "nbformat_minor": 2
}
