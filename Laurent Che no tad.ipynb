{
 "cells": [
  {
   "cell_type": "markdown",
   "metadata": {},
   "source": [
    "# Structures de données"
   ]
  },
  {
   "cell_type": "markdown",
   "metadata": {},
   "source": [
    "## p-uplets, p-uplets nommés\n",
    "Les p-uplets sont simplement des éléments d'un produit cartésien d'ensemble. On est particulièrement habitué aux couples ou aux triplets de coordonnées $(x,y)$ ou $(x,y,z)$ d'un point du plan ou de l'espace, mais on peut bien entendu opérer des produits cartésiens de n'importe quel type d'ensembles.\n",
    "\n",
    "En Python, on peut facilement définir des p-uplets, les types des différents éléments qui le composent peuvent être distincts. Voici quelques exemples."
   ]
  },
  {
   "cell_type": "code",
   "execution_count": 1,
   "metadata": {
    "ExecuteTime": {
     "end_time": "2019-05-24T17:04:06.853091Z",
     "start_time": "2019-05-24T17:04:06.850170Z"
    }
   },
   "outputs": [],
   "source": [
    "pointA = (12, 33)  # un coupe d'entiers\n",
    "triplet = (\"bonjour\", False, 334)  # un triplet composite"
   ]
  },
  {
   "cell_type": "code",
   "execution_count": 2,
   "metadata": {
    "ExecuteTime": {
     "end_time": "2019-05-24T17:04:06.864919Z",
     "start_time": "2019-05-24T17:04:06.855545Z"
    }
   },
   "outputs": [
    {
     "data": {
      "text/plain": [
       "(12, 33)"
      ]
     },
     "execution_count": 2,
     "metadata": {},
     "output_type": "execute_result"
    }
   ],
   "source": [
    "pointA"
   ]
  },
  {
   "cell_type": "code",
   "execution_count": 3,
   "metadata": {
    "ExecuteTime": {
     "end_time": "2019-05-24T17:04:06.870923Z",
     "start_time": "2019-05-24T17:04:06.866990Z"
    }
   },
   "outputs": [
    {
     "data": {
      "text/plain": [
       "334"
      ]
     },
     "execution_count": 3,
     "metadata": {},
     "output_type": "execute_result"
    }
   ],
   "source": [
    "triplet[2]"
   ]
  },
  {
   "cell_type": "markdown",
   "metadata": {},
   "source": [
    "En Python, les p-uplets __ne sont pas mutables__. La preuve :"
   ]
  },
  {
   "cell_type": "code",
   "execution_count": 4,
   "metadata": {
    "ExecuteTime": {
     "end_time": "2019-05-24T17:04:06.937383Z",
     "start_time": "2019-05-24T17:04:06.873346Z"
    }
   },
   "outputs": [
    {
     "ename": "TypeError",
     "evalue": "'tuple' object does not support item assignment",
     "output_type": "error",
     "traceback": [
      "\u001b[0;31m---------------------------------------------------------------------------\u001b[0m",
      "\u001b[0;31mTypeError\u001b[0m                                 Traceback (most recent call last)",
      "\u001b[0;32m<ipython-input-4-c29b719f5379>\u001b[0m in \u001b[0;36m<module>\u001b[0;34m\u001b[0m\n\u001b[0;32m----> 1\u001b[0;31m \u001b[0mtriplet\u001b[0m\u001b[0;34m[\u001b[0m\u001b[0;36m2\u001b[0m\u001b[0;34m]\u001b[0m \u001b[0;34m=\u001b[0m \u001b[0;36m888\u001b[0m\u001b[0;34m\u001b[0m\u001b[0;34m\u001b[0m\u001b[0m\n\u001b[0m",
      "\u001b[0;31mTypeError\u001b[0m: 'tuple' object does not support item assignment"
     ]
    }
   ],
   "source": [
    "triplet[2] = 888"
   ]
  },
  {
   "cell_type": "markdown",
   "metadata": {},
   "source": [
    "Un exemple typique d'utilisation des p-uplets est dans la valeur retournée par une fonction.\n",
    "Par exemple, voici comment récupérer moyenne et écart-type d'une série statistique."
   ]
  },
  {
   "cell_type": "code",
   "execution_count": 13,
   "metadata": {
    "ExecuteTime": {
     "end_time": "2019-05-24T17:04:19.185322Z",
     "start_time": "2019-05-24T17:04:19.181656Z"
    }
   },
   "outputs": [],
   "source": [
    "def caractStat(serie):\n",
    "    n = len(serie)\n",
    "    s, s2 = 0, 0  # s est la somme, s2 la somme des carrés\n",
    "    for x in serie:\n",
    "        s = s + x\n",
    "        s2 = s2 + x * x\n",
    "    return s / n, s2 / n - (s * s) / (n * n)"
   ]
  },
  {
   "cell_type": "code",
   "execution_count": 14,
   "metadata": {
    "ExecuteTime": {
     "end_time": "2019-05-24T17:04:19.535243Z",
     "start_time": "2019-05-24T17:04:19.532431Z"
    }
   },
   "outputs": [],
   "source": [
    "(moyenne,ecarttype) = caractStat([3,2,11,2,44,5])"
   ]
  },
  {
   "cell_type": "markdown",
   "metadata": {
    "ExecuteTime": {
     "end_time": "2019-05-23T15:13:50.852559Z",
     "start_time": "2019-05-23T15:13:50.848938Z"
    }
   },
   "source": [
    "Les p-uplets nommés sont des p-uplets aux éléments desquels on accède via un descripteur, et non pas seulement par leur indice.\n",
    "\n",
    "__Ce type n'existe pas nativement en Python__, on pourrait utiliser le module `collection.namedtuple`, mais ce n'est pas ce que recommande le programme, qui invite à utiliser les dictionnaires, ce que nous examinons ci-dessous.\n",
    "\n",
    "En revanche, le programme introduit la notion de p-uplet nommé car elle est fort utile pour la description du traitement des données en tables.\n",
    "\n",
    "Il faut distinguer les concepts au programme et les notations, les objets et les types du langage Python.\n",
    "\n",
    "_L'enseignement de NSI __n'est pas un enseignement d'un langage__, en l'occurrence Python. Python est simplement le langage support de l'enseignement._"
   ]
  },
  {
   "cell_type": "markdown",
   "metadata": {
    "ExecuteTime": {
     "end_time": "2019-05-23T15:13:50.852559Z",
     "start_time": "2019-05-23T15:13:50.848938Z"
    }
   },
   "source": [
    "## Les dictionnaires\n",
    "Un dictionnaire (on dit aussi tableau associatif) est une structure de données qui permet d'associer un ensemble de clés $C$ à un ensemble de valeurs $V$. Autrement dit, pour le mathématicien, c'est une application de $C$ dans $V$.\n",
    "\n",
    "Les opérations autorisées sur un dictionnaire sont essentiellement : la recherche d'une valeur connaissant la clé, la modification d'une valeur correspondant à une clé donnée.\n",
    "\n",
    "En pratique on considère plutôt des fonctions de $C$ dans $V$, c'est-à-dire qu'on accepte qu'il n'y ait pas de valeur associée à telle ou telle clé. Cela revient à autoriser des opérations supplémentaires : la création d'un dictionnaire vide, l'ajout d'un nouveau couple (clé, valeur), la suppression d'une couple de clé donnée.\n",
    "\n",
    "En Python, on utilise les dictionnaires de Python (qui en réalité ne sont pas tout à fait seulement des dictionnaires, mais plutôt des tables de hachage).\n",
    "\n",
    "En Python, les clés ne sont pas nécessairement du même type, ni les valeurs.\n",
    "\n",
    "_Cependant, d'un point de vue didactique, il est certainement préférable de choisir un unique type pour les clés (par exemple une chaîne pour un descripteur), alors que les valeurs peuvent de façon naturelle être de types différents._"
   ]
  },
  {
   "cell_type": "code",
   "execution_count": 15,
   "metadata": {
    "ExecuteTime": {
     "end_time": "2019-05-24T17:04:20.736182Z",
     "start_time": "2019-05-24T17:04:20.732129Z"
    }
   },
   "outputs": [
    {
     "data": {
      "text/plain": [
       "{12: 33, 'a': 44, 'b': 'bonjour', 1: False}"
      ]
     },
     "execution_count": 15,
     "metadata": {},
     "output_type": "execute_result"
    }
   ],
   "source": [
    "t = {}  # un dictionnaire vide\n",
    "t[12] = 33  # on ajoute la valeur 33 pour la clé 12\n",
    "t['a'] = 44  # et la valeur 44 pour la clé 'a'\n",
    "t['b'] = 'bonjour'\n",
    "t[1] = False\n",
    "t"
   ]
  },
  {
   "cell_type": "code",
   "execution_count": 16,
   "metadata": {
    "ExecuteTime": {
     "end_time": "2019-05-24T17:04:21.007580Z",
     "start_time": "2019-05-24T17:04:21.004375Z"
    }
   },
   "outputs": [
    {
     "data": {
      "text/plain": [
       "888"
      ]
     },
     "execution_count": 16,
     "metadata": {},
     "output_type": "execute_result"
    }
   ],
   "source": [
    "t[12] = 888 # modification de la valeurs associée à une clé\n",
    "t[12] # recherche pour la clé 12"
   ]
  },
  {
   "cell_type": "code",
   "execution_count": 17,
   "metadata": {
    "ExecuteTime": {
     "end_time": "2019-05-24T17:04:21.222551Z",
     "start_time": "2019-05-24T17:04:21.215736Z"
    }
   },
   "outputs": [
    {
     "ename": "KeyError",
     "evalue": "4",
     "output_type": "error",
     "traceback": [
      "\u001b[0;31m---------------------------------------------------------------------------\u001b[0m",
      "\u001b[0;31mKeyError\u001b[0m                                  Traceback (most recent call last)",
      "\u001b[0;32m<ipython-input-17-518e2536d52d>\u001b[0m in \u001b[0;36m<module>\u001b[0;34m\u001b[0m\n\u001b[0;32m----> 1\u001b[0;31m \u001b[0mt\u001b[0m\u001b[0;34m[\u001b[0m\u001b[0;36m4\u001b[0m\u001b[0;34m]\u001b[0m \u001b[0;31m# recherche pour la clé 4\u001b[0m\u001b[0;34m\u001b[0m\u001b[0;34m\u001b[0m\u001b[0m\n\u001b[0m",
      "\u001b[0;31mKeyError\u001b[0m: 4"
     ]
    }
   ],
   "source": [
    "t[4] # recherche pour la clé 4"
   ]
  },
  {
   "cell_type": "code",
   "execution_count": 18,
   "metadata": {
    "ExecuteTime": {
     "end_time": "2019-05-24T17:04:21.408021Z",
     "start_time": "2019-05-24T17:04:21.404026Z"
    }
   },
   "outputs": [
    {
     "data": {
      "text/plain": [
       "(dict_keys([12, 'a', 'b', 1]), [12, 'a', 'b', 1])"
      ]
     },
     "execution_count": 18,
     "metadata": {},
     "output_type": "execute_result"
    }
   ],
   "source": [
    "t.keys(), list(t.keys())  # l'ensemble des clés"
   ]
  },
  {
   "cell_type": "code",
   "execution_count": 19,
   "metadata": {
    "ExecuteTime": {
     "end_time": "2019-05-24T17:04:21.665568Z",
     "start_time": "2019-05-24T17:04:21.661589Z"
    }
   },
   "outputs": [
    {
     "data": {
      "text/plain": [
       "(dict_values([888, 44, 'bonjour', False]), [888, 44, 'bonjour', False])"
      ]
     },
     "execution_count": 19,
     "metadata": {},
     "output_type": "execute_result"
    }
   ],
   "source": [
    "t.values(), list(t.values())  # l'ensemble des valeurs"
   ]
  },
  {
   "cell_type": "code",
   "execution_count": 20,
   "metadata": {
    "ExecuteTime": {
     "end_time": "2019-05-24T17:04:21.817778Z",
     "start_time": "2019-05-24T17:04:21.813751Z"
    }
   },
   "outputs": [
    {
     "data": {
      "text/plain": [
       "[(12, 888), ('a', 44), ('b', 'bonjour'), (1, False)]"
      ]
     },
     "execution_count": 20,
     "metadata": {},
     "output_type": "execute_result"
    }
   ],
   "source": [
    "list(t.items())  # l'ensemble des couples (clé,valeur)"
   ]
  },
  {
   "cell_type": "markdown",
   "metadata": {},
   "source": [
    "### Un exemple : le Titanic\n",
    "Le site [Kaggle](https://www.kaggle.com/broaniki/titanic) fournit des statistiques intéressantes sur les naufragés du Titanic."
   ]
  },
  {
   "cell_type": "code",
   "execution_count": 21,
   "metadata": {
    "ExecuteTime": {
     "end_time": "2019-05-24T17:04:22.343941Z",
     "start_time": "2019-05-24T17:04:22.323627Z"
    }
   },
   "outputs": [],
   "source": [
    "import csv\n",
    "reader = csv.DictReader(open('titanic.csv', 'r'))\n",
    "titanic = []\n",
    "for row in reader:\n",
    "    titanic.append(dict(row))"
   ]
  },
  {
   "cell_type": "code",
   "execution_count": 22,
   "metadata": {
    "ExecuteTime": {
     "end_time": "2019-05-24T17:04:22.544069Z",
     "start_time": "2019-05-24T17:04:22.540713Z"
    }
   },
   "outputs": [
    {
     "data": {
      "text/plain": [
       "891"
      ]
     },
     "execution_count": 22,
     "metadata": {},
     "output_type": "execute_result"
    }
   ],
   "source": [
    "len(titanic)"
   ]
  },
  {
   "cell_type": "code",
   "execution_count": 23,
   "metadata": {
    "ExecuteTime": {
     "end_time": "2019-05-24T17:04:22.760458Z",
     "start_time": "2019-05-24T17:04:22.757095Z"
    }
   },
   "outputs": [
    {
     "data": {
      "text/plain": [
       "{'PassengerId': '223',\n",
       " 'Survived': '0',\n",
       " 'Pclass': '3',\n",
       " 'Name': 'Green, Mr. George Henry',\n",
       " 'Sex': 'male',\n",
       " 'Age': '51',\n",
       " 'SibSp': '0',\n",
       " 'Parch': '0',\n",
       " 'Ticket': '21440',\n",
       " 'Fare': '8.05',\n",
       " 'Cabin': '',\n",
       " 'Embarked': 'S'}"
      ]
     },
     "execution_count": 23,
     "metadata": {},
     "output_type": "execute_result"
    }
   ],
   "source": [
    "titanic[222]"
   ]
  },
  {
   "cell_type": "code",
   "execution_count": 24,
   "metadata": {
    "ExecuteTime": {
     "end_time": "2019-05-24T17:04:22.971320Z",
     "start_time": "2019-05-24T17:04:22.964017Z"
    }
   },
   "outputs": [
    {
     "data": {
      "text/plain": [
       "(216, 184, 491)"
      ]
     },
     "execution_count": 24,
     "metadata": {},
     "output_type": "execute_result"
    }
   ],
   "source": [
    "tab = [[p for p in titanic if p['Pclass'] == str(c)]\n",
    "       for c in range(1, 4)]  # tableau par classe\n",
    "n1, n2, n3 = len(tab[0]), len(tab[1]), len(tab[2])\n",
    "s1 = len(\n",
    "    [p for p in tab[0] if p['Survived'] == '1'])  # survivants de 1re classe\n",
    "s2 = len(\n",
    "    [p for p in tab[1] if p['Survived'] == '1'])  # survivants de 2e classe\n",
    "s3 = len(\n",
    "    [p for p in tab[2] if p['Survived'] == '1'])  # survivants de 3e classe\n",
    "n1, n2, n3  # les effectifs, pour chaque classe"
   ]
  },
  {
   "cell_type": "code",
   "execution_count": 25,
   "metadata": {
    "ExecuteTime": {
     "end_time": "2019-05-24T17:04:23.167136Z",
     "start_time": "2019-05-24T17:04:23.163894Z"
    }
   },
   "outputs": [
    {
     "data": {
      "text/plain": [
       "(136, 87, 119)"
      ]
     },
     "execution_count": 25,
     "metadata": {},
     "output_type": "execute_result"
    }
   ],
   "source": [
    "s1, s2, s3  # les survivants, pour chaque classe"
   ]
  },
  {
   "cell_type": "code",
   "execution_count": 26,
   "metadata": {
    "ExecuteTime": {
     "end_time": "2019-05-24T17:04:23.379853Z",
     "start_time": "2019-05-24T17:04:23.376195Z"
    }
   },
   "outputs": [
    {
     "data": {
      "text/plain": [
       "(0.6296296296296297, 0.47282608695652173, 0.24236252545824846)"
      ]
     },
     "execution_count": 26,
     "metadata": {},
     "output_type": "execute_result"
    }
   ],
   "source": [
    "s1 / n1, s2 / n2, s3 / n3  # les chances de survie, pour chaque classe"
   ]
  },
  {
   "cell_type": "markdown",
   "metadata": {},
   "source": [
    "## Piles et files\n",
    "\n",
    "### Piles\n",
    "\n",
    "Une pile est une structure de données sur laquelle on peut effectuer un jeu restreint d'opérations :\n",
    "- creerPileVide qui crée une pile vide ;\n",
    "- testeVide qui indique si la pile est vide ou non ;\n",
    "- pop qui dépile un élément ;\n",
    "- push qui empile un élément.\n",
    "\n",
    "La sémantique est LIFO _last in, first out_, ce qui signifie que c'est toujours l'élément empilé le plus récemment qu'on dépile en premier.\n",
    "\n",
    "On peut représenter cela de façon axiomatique :\n",
    "- testeVide renvoie Faux après un push sur la pile ;\n",
    "- un push suivi d'un pop renvoie la pile dans l'état de départ.\n",
    "\n",
    "Bien sûr, un appel de pop sur une pile vide déclenche une erreur.\n",
    "\n",
    "Le plus simple et le plus naturel pour créer une pile en Python est d'utiliser un \"tableau\" de Python. Même si utiliser les méthodes `append` et `pop` sur ces tableaux peut être vu comme de la triche."
   ]
  },
  {
   "cell_type": "code",
   "execution_count": 27,
   "metadata": {
    "ExecuteTime": {
     "end_time": "2019-05-24T17:04:23.759534Z",
     "start_time": "2019-05-24T17:04:23.755776Z"
    }
   },
   "outputs": [],
   "source": [
    "class Pile:\n",
    "    p = []\n",
    "\n",
    "    def testeVide(self):\n",
    "        return len(self.p) == 0\n",
    "\n",
    "    def __init__(self):\n",
    "        self.p = []\n",
    "\n",
    "    def push(self, x):\n",
    "        self.p.append(x)\n",
    "\n",
    "    def pop(self):\n",
    "        return self.p.pop()"
   ]
  },
  {
   "cell_type": "code",
   "execution_count": 28,
   "metadata": {
    "ExecuteTime": {
     "end_time": "2019-05-24T17:04:23.958606Z",
     "start_time": "2019-05-24T17:04:23.956105Z"
    }
   },
   "outputs": [],
   "source": [
    "P = Pile()"
   ]
  },
  {
   "cell_type": "code",
   "execution_count": 29,
   "metadata": {
    "ExecuteTime": {
     "end_time": "2019-05-24T17:04:24.151474Z",
     "start_time": "2019-05-24T17:04:24.147982Z"
    }
   },
   "outputs": [
    {
     "data": {
      "text/plain": [
       "True"
      ]
     },
     "execution_count": 29,
     "metadata": {},
     "output_type": "execute_result"
    }
   ],
   "source": [
    "P.testeVide()"
   ]
  },
  {
   "cell_type": "code",
   "execution_count": 30,
   "metadata": {
    "ExecuteTime": {
     "end_time": "2019-05-24T17:04:24.352019Z",
     "start_time": "2019-05-24T17:04:24.347652Z"
    }
   },
   "outputs": [
    {
     "data": {
      "text/plain": [
       "(21, 44)"
      ]
     },
     "execution_count": 30,
     "metadata": {},
     "output_type": "execute_result"
    }
   ],
   "source": [
    "P.push(10)\n",
    "P.push(44)\n",
    "P.push(35)\n",
    "P.pop()  # c'est 35 qui va disparaître de la pile\n",
    "P.push(21)\n",
    "P.pop(), P.pop()"
   ]
  },
  {
   "cell_type": "markdown",
   "metadata": {},
   "source": [
    "## Files\n",
    "Une file est une structure analogue à celle de pile, avec le même type d'opérations :\n",
    "- creerFileVide ;\n",
    "- testeVide ;\n",
    "- enfiler un élément ;\n",
    "- defiler un élément.\n",
    "\n",
    "Mais la sémantique est complètement différente, c'est celle de la file d'attente _first in, first out_, c'est-à-dire que c'est l'élément enfilé il y a le plus longtemps qui a priorité pour être défilé. On parle de sémantique FIFO.\n",
    "\n",
    "Comme pour les piles, on peut commencer par proposer une implémentation en Python à l'aide d'un \"tableau\"."
   ]
  },
  {
   "cell_type": "code",
   "execution_count": 31,
   "metadata": {
    "ExecuteTime": {
     "end_time": "2019-05-24T17:04:24.743120Z",
     "start_time": "2019-05-24T17:04:24.739640Z"
    }
   },
   "outputs": [],
   "source": [
    "class File:\n",
    "    p = []\n",
    "\n",
    "    def testeVide(self):\n",
    "        return len(self.p) == 0\n",
    "\n",
    "    def __init__(self):\n",
    "        self.p = []\n",
    "\n",
    "    def enfiler(self, x):\n",
    "        self.p.append(x)\n",
    "\n",
    "    def defiler(self):\n",
    "        return self.p.pop(0)"
   ]
  },
  {
   "cell_type": "code",
   "execution_count": 32,
   "metadata": {
    "ExecuteTime": {
     "end_time": "2019-05-24T17:04:24.943891Z",
     "start_time": "2019-05-24T17:04:24.940354Z"
    }
   },
   "outputs": [
    {
     "data": {
      "text/plain": [
       "True"
      ]
     },
     "execution_count": 32,
     "metadata": {},
     "output_type": "execute_result"
    }
   ],
   "source": [
    "F = File()\n",
    "F.testeVide()"
   ]
  },
  {
   "cell_type": "code",
   "execution_count": 33,
   "metadata": {
    "ExecuteTime": {
     "end_time": "2019-05-24T17:04:25.152236Z",
     "start_time": "2019-05-24T17:04:25.147914Z"
    }
   },
   "outputs": [
    {
     "data": {
      "text/plain": [
       "(44, 35)"
      ]
     },
     "execution_count": 33,
     "metadata": {},
     "output_type": "execute_result"
    }
   ],
   "source": [
    "F.enfiler(10)\n",
    "F.enfiler(44)\n",
    "F.enfiler(35)\n",
    "F.defiler() # c'est 10 qui va disparaître de la file\n",
    "F.enfiler(21)\n",
    "F.defiler(),F.defiler()"
   ]
  },
  {
   "cell_type": "markdown",
   "metadata": {},
   "source": [
    "Il existe une autre façon amusante d'implémenter une file, à l'aide de deux piles $A$ et $B$.\n",
    "\n",
    "Quand on ajoute un élément à la file, on l'empile dans la pile $A$.\n",
    "\n",
    "Quand on supprimer un élément de la file, on le dépile de la pile $B$. Si la pile $B$ est vide, on y déverse d'abord toute la pile $A$ (à l'aide des seules opérations autorisées : `pop` sur $A$ et `push` sur $B$).\n",
    "\n",
    "On vérifiera que la sémantique FIFO est bien respectée !"
   ]
  },
  {
   "cell_type": "code",
   "execution_count": 34,
   "metadata": {
    "ExecuteTime": {
     "end_time": "2019-05-24T17:04:25.552451Z",
     "start_time": "2019-05-24T17:04:25.547930Z"
    }
   },
   "outputs": [],
   "source": [
    "class File:\n",
    "    def __init__(self):\n",
    "        self.A = Pile()\n",
    "        self.B = Pile()\n",
    "\n",
    "    def testeVide(self):\n",
    "        self.A.testeVide() and self.B.testeVide()\n",
    "\n",
    "    def enfiler(self, x):\n",
    "        self.A.push(x)\n",
    "\n",
    "    def defiler(self):\n",
    "        if not self.B.testeVide():\n",
    "            return self.B.pop()\n",
    "        else:  # le return précédent pourrait nous dispenser d'écrire else\n",
    "            while not self.A.testeVide():\n",
    "                self.B.push(self.A.pop())\n",
    "            return self.B.pop()"
   ]
  },
  {
   "cell_type": "code",
   "execution_count": 35,
   "metadata": {
    "ExecuteTime": {
     "end_time": "2019-05-24T17:04:25.752377Z",
     "start_time": "2019-05-24T17:04:25.747710Z"
    }
   },
   "outputs": [
    {
     "data": {
      "text/plain": [
       "(44, 35)"
      ]
     },
     "execution_count": 35,
     "metadata": {},
     "output_type": "execute_result"
    }
   ],
   "source": [
    "F = File()\n",
    "F.enfiler(10)\n",
    "F.enfiler(44)\n",
    "F.enfiler(35)\n",
    "F.defiler()  # c'est 10 qui va disparaître de la file\n",
    "F.enfiler(21)\n",
    "F.defiler(), F.defiler()"
   ]
  },
  {
   "cell_type": "markdown",
   "metadata": {},
   "source": [
    "Question : que contiennent les piles $A$ et $B$ à la fin de l'exécution précédente ?\n",
    "\n",
    "On remarque que pour l'utilisateur, ce qui compte est que la sémantique est correcte. Les détails de l'implémentation sont indifférents. L'utilisateur ne peut pas deviner comment est gérée la file."
   ]
  },
  {
   "cell_type": "markdown",
   "metadata": {
    "ExecuteTime": {
     "end_time": "2019-05-23T15:13:50.852559Z",
     "start_time": "2019-05-23T15:13:50.848938Z"
    }
   },
   "source": [
    "## Les listes-tableaux-dynamiques de Python\n",
    "Un gros problème avec Python, c'est que sa documentation officielle appelle liste des objets qui ne sont à proprement parler ni des listes, ni des tableaux.\n",
    "\n",
    "Ce ne sont pas des listes, car on a un accès direct par indice dans la collection.\n",
    "\n",
    "Ce ne sont pas des tableaux au sens habituel, car on peut mélanger les types et car la taille n'est pas fixée.\n",
    "\n",
    "_Remarque : d'un point de vue pédagogique, il vaut mieux éviter de mélanger les types._\n",
    "\n",
    "C'est agréable parce que c'est souple, mais c'est embêtant quand on veut parler avec rigueur de structures de données."
   ]
  },
  {
   "cell_type": "code",
   "execution_count": 36,
   "metadata": {
    "ExecuteTime": {
     "end_time": "2019-05-24T17:04:26.359301Z",
     "start_time": "2019-05-24T17:04:26.356210Z"
    }
   },
   "outputs": [],
   "source": [
    "t = ['a', 12, 'b', False] # on peut mélanger les types"
   ]
  },
  {
   "cell_type": "code",
   "execution_count": 37,
   "metadata": {
    "ExecuteTime": {
     "end_time": "2019-05-24T17:04:26.567605Z",
     "start_time": "2019-05-24T17:04:26.563857Z"
    }
   },
   "outputs": [
    {
     "data": {
      "text/plain": [
       "'b'"
      ]
     },
     "execution_count": 37,
     "metadata": {},
     "output_type": "execute_result"
    }
   ],
   "source": [
    "t[2] # on a un accès direct par indice"
   ]
  },
  {
   "cell_type": "code",
   "execution_count": 38,
   "metadata": {
    "ExecuteTime": {
     "end_time": "2019-05-24T17:04:26.766041Z",
     "start_time": "2019-05-24T17:04:26.763864Z"
    }
   },
   "outputs": [],
   "source": [
    "t[0] = 5 # ce sont des structures mutables"
   ]
  },
  {
   "cell_type": "code",
   "execution_count": 39,
   "metadata": {
    "ExecuteTime": {
     "end_time": "2019-05-24T17:04:26.959544Z",
     "start_time": "2019-05-24T17:04:26.956261Z"
    }
   },
   "outputs": [
    {
     "data": {
      "text/plain": [
       "[5, 12, 'b', False]"
      ]
     },
     "execution_count": 39,
     "metadata": {},
     "output_type": "execute_result"
    }
   ],
   "source": [
    "t"
   ]
  },
  {
   "cell_type": "code",
   "execution_count": 40,
   "metadata": {
    "ExecuteTime": {
     "end_time": "2019-05-24T17:04:27.178075Z",
     "start_time": "2019-05-24T17:04:27.173856Z"
    }
   },
   "outputs": [
    {
     "data": {
      "text/plain": [
       "[5, 12, 'b', False, 14, ['a', 'b', 'c'], 99]"
      ]
     },
     "execution_count": 40,
     "metadata": {},
     "output_type": "execute_result"
    }
   ],
   "source": [
    "t.append(14)\n",
    "t.append(['a', 'b', 'c'])\n",
    "t.append(99)\n",
    "t"
   ]
  },
  {
   "cell_type": "markdown",
   "metadata": {
    "ExecuteTime": {
     "end_time": "2019-05-23T15:19:10.153269Z",
     "start_time": "2019-05-23T15:19:10.149558Z"
    }
   },
   "source": [
    "Une difficulté importante est relative aux complexités des opérations qu'on effectue sur ces objets _(comment les nommer ? des listes-tableaux-dynamiques ?)_ : on peut penser que chaque opération est de coût unitaire.\n",
    "\n",
    "Mais c'est complètement faux.\n",
    "\n",
    "Le [site WikiPython](https://wiki.python.org/moin/TimeComplexity) fournit la complexité de la plupart des opérations courantes. _Average Case_ réfère au coût moyen, _Amortized Worst Case_ au coût le pire amorti.\n",
    "\n",
    "Qu'est-ce que cela ?\n",
    "\n",
    "Les \"tableaux\" de Python réservent une taille puissance de 2. Par exemple `t = list(range(100))` réservera de la place pour 256 éléments. On peut donc réaliser l'instruction `t.append(random.random())` 156 fois sans problème (je veux dire avec un coût unitaire), mais si j'essaie une fois de plus, Python va réserver de la place pour 512 éléments, ce qui peut coûter cher : il faudra en effet éventuellement recopier les 256 premiers éléments dans une nouvelle zone mémoire, la zone actuellement occupée n'étant pas de taille suffisante. Le coût amorti consiste en la moyenne du coût sur une _histoire longue_ du \"tableau\".\n",
    "\n",
    "_Attention : c'est une vision simplifiée de ce qui se passe._\n",
    "\n",
    "Et dès qu'on effectue des _slices_ (en utilisant `:`), la situation devient carrément plus compliquée."
   ]
  },
  {
   "cell_type": "code",
   "execution_count": 41,
   "metadata": {
    "ExecuteTime": {
     "end_time": "2019-05-24T17:04:27.558268Z",
     "start_time": "2019-05-24T17:04:27.555571Z"
    }
   },
   "outputs": [],
   "source": [
    "t = list(range(100))"
   ]
  },
  {
   "cell_type": "code",
   "execution_count": 42,
   "metadata": {
    "ExecuteTime": {
     "end_time": "2019-05-24T17:04:27.751936Z",
     "start_time": "2019-05-24T17:04:27.748258Z"
    }
   },
   "outputs": [
    {
     "data": {
      "text/plain": [
       "[20, 21, 22, 23, 24, 25, 26, 27, 28, 29]"
      ]
     },
     "execution_count": 42,
     "metadata": {},
     "output_type": "execute_result"
    }
   ],
   "source": [
    "t2 = t[20:30]  # en fait, c'est un tout nouveau tableau, qu'il a fallu réserver\n",
    "# et où il a fallu recopier les valeurs\n",
    "t2"
   ]
  },
  {
   "cell_type": "code",
   "execution_count": 43,
   "metadata": {
    "ExecuteTime": {
     "end_time": "2019-05-24T17:04:27.961621Z",
     "start_time": "2019-05-24T17:04:27.957923Z"
    }
   },
   "outputs": [
    {
     "data": {
      "text/plain": [
       "[20, 21, 22, 23, 999, 25, 26, 27, 28, 29]"
      ]
     },
     "execution_count": 43,
     "metadata": {},
     "output_type": "execute_result"
    }
   ],
   "source": [
    "t2[4] = 999 # on modifie le nouveau \"tableau\" mais pas l'ancien\n",
    "t2"
   ]
  },
  {
   "cell_type": "code",
   "execution_count": 44,
   "metadata": {
    "ExecuteTime": {
     "end_time": "2019-05-24T17:04:28.170735Z",
     "start_time": "2019-05-24T17:04:28.166859Z"
    }
   },
   "outputs": [
    {
     "data": {
      "text/plain": [
       "[20, 21, 22, 23, 24, 25, 26, 27, 28, 29]"
      ]
     },
     "execution_count": 44,
     "metadata": {},
     "output_type": "execute_result"
    }
   ],
   "source": [
    "t[20:30]  # non modifié"
   ]
  },
  {
   "cell_type": "markdown",
   "metadata": {},
   "source": [
    "### insertion dans une liste triée\n",
    "Considérons le problème classique d'insertion d'un entier $x$ dans un \"tableau\" $t$ de taille $n$ qu'on suppose déjà trié en ordre croissant : c'est une première étape pour le tri insertion. Pour simplifier, on va supposer que $x$ ne figure pas encore dans $t$ et que les éléments de $t$ sont deux à deux distincts.\n",
    "\n",
    "Une version utilisant les _slides_ peut être la première idée d'un élève. "
   ]
  },
  {
   "cell_type": "code",
   "execution_count": 45,
   "metadata": {
    "ExecuteTime": {
     "end_time": "2019-05-24T17:04:28.543702Z",
     "start_time": "2019-05-24T17:04:28.538792Z"
    }
   },
   "outputs": [
    {
     "data": {
      "text/plain": [
       "[1, 4, 6, 8, 11, 13]"
      ]
     },
     "execution_count": 45,
     "metadata": {},
     "output_type": "execute_result"
    }
   ],
   "source": [
    "def insertion(x, t):\n",
    "    petits = [a for a in t if a < x]\n",
    "    grands = [a for a in t if a > x]\n",
    "    return petits + [x] + grands\n",
    "\n",
    "\n",
    "insertion(8, [1, 4, 6, 11, 13])"
   ]
  },
  {
   "cell_type": "markdown",
   "metadata": {},
   "source": [
    "Ça marche, dirait-on.\n",
    "\n",
    "Mais :\n",
    "- on n'a pas travaillé _en place_ : le \"tableau\" `t`n'a pas été modifié, on renvoie un nouveau \"tableau\" ;\n",
    "- chaque création de `petits` ou de `grands` coûte $O(n)$ ;\n",
    "- l'évaluation de `petits + [x]` est d'un coût imprévisible (dépasse-t-on la taille allouée à `petits` ?) ;\n",
    "- comment s'exécute la concaténation de deux \"tableaux\" `t1` et `t2`? Combien cela coûte-t-il ?\n",
    "\n",
    "Pour maîtriser (à peu près) le calcul de complexité, on écrira plutôt (mais c'est plus difficile à comprendre) :"
   ]
  },
  {
   "cell_type": "code",
   "execution_count": 46,
   "metadata": {
    "ExecuteTime": {
     "end_time": "2019-05-24T17:04:28.944687Z",
     "start_time": "2019-05-24T17:04:28.938943Z"
    }
   },
   "outputs": [
    {
     "data": {
      "text/plain": [
       "[1, 4, 6, 8, 11, 13]"
      ]
     },
     "execution_count": 46,
     "metadata": {},
     "output_type": "execute_result"
    }
   ],
   "source": [
    "def insertion(x, t):\n",
    "    t.append(x)  # j'insère x en fin du \"tableau\", puis je le range à sa place\n",
    "    i = len(t) - 1\n",
    "    while i > 0 and t[i - 1] > x:\n",
    "        t[i], t[i - 1] = t[i - 1], x\n",
    "        i = i - 1\n",
    "    return t  # inutile puisqu'on modifie t en place, mais pas gênant\n",
    "\n",
    "\n",
    "insertion(8, [1, 4, 6, 11, 13])"
   ]
  },
  {
   "cell_type": "code",
   "execution_count": 47,
   "metadata": {
    "ExecuteTime": {
     "end_time": "2019-05-24T17:04:29.128367Z",
     "start_time": "2019-05-24T17:04:29.123962Z"
    }
   },
   "outputs": [
    {
     "data": {
      "text/plain": [
       "[0, 1, 4, 6, 8, 11, 13, 15]"
      ]
     },
     "execution_count": 47,
     "metadata": {},
     "output_type": "execute_result"
    }
   ],
   "source": [
    "t = [1, 4, 6, 8, 11, 13]\n",
    "insertion(0, t)\n",
    "insertion(15, t)\n",
    "t"
   ]
  },
  {
   "cell_type": "markdown",
   "metadata": {},
   "source": [
    "Cette fois, on a bien travaillé _en place_, et on maîtrise davantage la complexité, en tout cas pour la boucle."
   ]
  },
  {
   "cell_type": "markdown",
   "metadata": {},
   "source": [
    "## Les listes, les vraies\n",
    "\n",
    "La structure de données abstraite « liste » est définie par l'ensemble $E$ des valeurs qu'elle peut contenir. Notons $L(E)$ l'ensemble des listes sur $E$ y compris la liste vide, qu'on notera ici (pour l'instant) $\\emptyset$.\n",
    "\n",
    "On dispose des opérations suivantes : \n",
    "- $cons:E\\times L(E)\\rightarrow L(E)$ qui __cons__truit une liste en adjoignant une nouvelle tête de liste à une liste déjà construite ;\n",
    "- $car:L(E)\\rightarrow E$ qui associe à une liste sa tête ;\n",
    "- $cdr:L(E)\\rightarrow L(E)$ qui associe à une liste sa queue, c'est-à-dire la liste privée de sa tête:\n",
    "- $estVide:L(E)\\rightarrow\\{\\textrm{Vrai},\\textrm{Faux}\\}$ qui dit si une liste est vide ou non.\n",
    "\n",
    "Les deux fonctions $car$ et $cdr$ ne sont pas définies sur $\\emptyset$ (elles pourront déclencher une erreur).\n",
    "\n",
    "Les noms $cons$, $car$ et $cdr$ sont historiques, ils datent de l'apparition de [Lisp](https://fr.wikipedia.org/wiki/Lisp), voir aussi [ici](https://en.wikipedia.org/wiki/CAR_and_CDR).\n",
    "\n",
    "Sans faire de la programmation objet avancée (en particulier, le programme NSI exclut les concepts d'héritage et de polymorphisme), le vocabulaire objet se prête bien à la description formelle d'une structure de données abstraites, les méthodes de la classe listant les opérations autorisées."
   ]
  },
  {
   "cell_type": "code",
   "execution_count": 48,
   "metadata": {
    "ExecuteTime": {
     "end_time": "2019-05-24T17:04:29.735079Z",
     "start_time": "2019-05-24T17:04:29.731998Z"
    }
   },
   "outputs": [],
   "source": [
    "class List:\n",
    "    ...\n",
    "    \n",
    "    def car(self):\n",
    "        ...\n",
    "    \n",
    "    def cdr(self):\n",
    "        ...\n",
    "        \n",
    "    def estVide(self):\n",
    "        ...\n",
    "\n",
    "def cons(tete,queue):\n",
    "    ..."
   ]
  },
  {
   "cell_type": "markdown",
   "metadata": {},
   "source": [
    "On peut aller plus loin dans une description formelle de la _sémantique_ de la structure de données, en énonçant des axiomes tels que : \n",
    "- $car(cons(t,q))\\equiv t$, \n",
    "- $cdr(cons(t,q))\\equiv q$, \n",
    "- $estVide(cons(t,q))\\equiv \\textrm{Faux}$.\n",
    "\n",
    "Cette axiomatisation n'est toutefois pas un attendu du programme, et une explication en français courant, voire le simple usage des mots _tête_ et _queue_ peut suffire à faire comprendre la sémantique.\n",
    "\n",
    "On retiendra en particulier que pour calculer la longueur d'une liste, il n'y a pas d'autre moyen que de la parcourir en entier."
   ]
  },
  {
   "cell_type": "code",
   "execution_count": 49,
   "metadata": {
    "ExecuteTime": {
     "end_time": "2019-05-24T17:04:30.139744Z",
     "start_time": "2019-05-24T17:04:30.136493Z"
    }
   },
   "outputs": [],
   "source": [
    "def longueur(L):\n",
    "    n = 0\n",
    "    while not(L.estVide()):\n",
    "        n = n+1\n",
    "        L = L.cdr()\n",
    "    return n"
   ]
  },
  {
   "cell_type": "markdown",
   "metadata": {},
   "source": [
    "De même, pas besoin de connaître la structure concrète, c'est-à-dire l'implémentation de la classe `List`, pour écrire la recherche d'un élément dans une liste."
   ]
  },
  {
   "cell_type": "code",
   "execution_count": 50,
   "metadata": {
    "ExecuteTime": {
     "end_time": "2019-05-24T17:04:30.543170Z",
     "start_time": "2019-05-24T17:04:30.540131Z"
    }
   },
   "outputs": [],
   "source": [
    "def recherche(x, L):\n",
    "    while not (L.estVide()) and not (x == L.car()):\n",
    "        L = L.cdr()\n",
    "    return not (L.estVide())"
   ]
  },
  {
   "cell_type": "markdown",
   "metadata": {},
   "source": [
    "_Remarque_ : il est intéressant de prouver la correction de cette fonction.\n",
    "\n",
    "Passons à une implémentation possible de cette structure, en écrivant une classe Python."
   ]
  },
  {
   "cell_type": "code",
   "execution_count": 51,
   "metadata": {
    "ExecuteTime": {
     "end_time": "2019-05-24T17:04:30.962809Z",
     "start_time": "2019-05-24T17:04:30.957682Z"
    }
   },
   "outputs": [],
   "source": [
    "class List:\n",
    "    def __init__(self, car, cdr=None):\n",
    "        self.carValue = car\n",
    "        self.cdrValue = cdr\n",
    "\n",
    "    def __str__(self):\n",
    "        return str(self.carValue) + ',' + str(self.cdrValue)\n",
    "\n",
    "    def car(self):\n",
    "        return self.carValue\n",
    "\n",
    "    def cdr(self):\n",
    "        return self.cdrValue\n",
    "\n",
    "    def estVide(self):\n",
    "        return self == None\n",
    "\n",
    "\n",
    "def cons(tete, queue):\n",
    "    return List(tete, queue)\n",
    "\n",
    "def longueur(L):\n",
    "    n = 0\n",
    "    while not(L.estVide()):\n",
    "        n = n+1\n",
    "        L = L.cdr()\n",
    "    return n"
   ]
  },
  {
   "cell_type": "code",
   "execution_count": 52,
   "metadata": {
    "ExecuteTime": {
     "end_time": "2019-05-24T17:04:31.168204Z",
     "start_time": "2019-05-24T17:04:31.164442Z"
    }
   },
   "outputs": [
    {
     "data": {
      "text/plain": [
       "'33,12,22,None'"
      ]
     },
     "execution_count": 52,
     "metadata": {},
     "output_type": "execute_result"
    }
   ],
   "source": [
    "L = None\n",
    "L = cons(22,L)\n",
    "L = cons(12,L)\n",
    "L = cons(33,L)\n",
    "str(L)"
   ]
  },
  {
   "cell_type": "code",
   "execution_count": 53,
   "metadata": {
    "ExecuteTime": {
     "end_time": "2019-05-24T17:04:31.373088Z",
     "start_time": "2019-05-24T17:04:31.364755Z"
    }
   },
   "outputs": [
    {
     "ename": "AttributeError",
     "evalue": "'NoneType' object has no attribute 'estVide'",
     "output_type": "error",
     "traceback": [
      "\u001b[0;31m---------------------------------------------------------------------------\u001b[0m",
      "\u001b[0;31mAttributeError\u001b[0m                            Traceback (most recent call last)",
      "\u001b[0;32m<ipython-input-53-fa6176742981>\u001b[0m in \u001b[0;36m<module>\u001b[0;34m\u001b[0m\n\u001b[0;32m----> 1\u001b[0;31m \u001b[0mlongueur\u001b[0m\u001b[0;34m(\u001b[0m\u001b[0mL\u001b[0m\u001b[0;34m)\u001b[0m\u001b[0;34m\u001b[0m\u001b[0;34m\u001b[0m\u001b[0m\n\u001b[0m",
      "\u001b[0;32m<ipython-input-51-58a59cbdf48e>\u001b[0m in \u001b[0;36mlongueur\u001b[0;34m(L)\u001b[0m\n\u001b[1;32m     22\u001b[0m \u001b[0;32mdef\u001b[0m \u001b[0mlongueur\u001b[0m\u001b[0;34m(\u001b[0m\u001b[0mL\u001b[0m\u001b[0;34m)\u001b[0m\u001b[0;34m:\u001b[0m\u001b[0;34m\u001b[0m\u001b[0;34m\u001b[0m\u001b[0m\n\u001b[1;32m     23\u001b[0m     \u001b[0mn\u001b[0m \u001b[0;34m=\u001b[0m \u001b[0;36m0\u001b[0m\u001b[0;34m\u001b[0m\u001b[0;34m\u001b[0m\u001b[0m\n\u001b[0;32m---> 24\u001b[0;31m     \u001b[0;32mwhile\u001b[0m \u001b[0;32mnot\u001b[0m\u001b[0;34m(\u001b[0m\u001b[0mL\u001b[0m\u001b[0;34m.\u001b[0m\u001b[0mestVide\u001b[0m\u001b[0;34m(\u001b[0m\u001b[0;34m)\u001b[0m\u001b[0;34m)\u001b[0m\u001b[0;34m:\u001b[0m\u001b[0;34m\u001b[0m\u001b[0;34m\u001b[0m\u001b[0m\n\u001b[0m\u001b[1;32m     25\u001b[0m         \u001b[0mn\u001b[0m \u001b[0;34m=\u001b[0m \u001b[0mn\u001b[0m\u001b[0;34m+\u001b[0m\u001b[0;36m1\u001b[0m\u001b[0;34m\u001b[0m\u001b[0;34m\u001b[0m\u001b[0m\n\u001b[1;32m     26\u001b[0m         \u001b[0mL\u001b[0m \u001b[0;34m=\u001b[0m \u001b[0mL\u001b[0m\u001b[0;34m.\u001b[0m\u001b[0mcdr\u001b[0m\u001b[0;34m(\u001b[0m\u001b[0;34m)\u001b[0m\u001b[0;34m\u001b[0m\u001b[0;34m\u001b[0m\u001b[0m\n",
      "\u001b[0;31mAttributeError\u001b[0m: 'NoneType' object has no attribute 'estVide'"
     ]
    }
   ],
   "source": [
    "longueur(L)"
   ]
  },
  {
   "cell_type": "markdown",
   "metadata": {},
   "source": [
    "On est confronté au problème : `None` n'a pas de méthode `estVide`."
   ]
  },
  {
   "cell_type": "code",
   "execution_count": 54,
   "metadata": {
    "ExecuteTime": {
     "end_time": "2019-05-24T17:04:31.777163Z",
     "start_time": "2019-05-24T17:04:31.773712Z"
    }
   },
   "outputs": [],
   "source": [
    "def longueur(L):\n",
    "    n = 0\n",
    "    while L != None:\n",
    "        n = n + 1\n",
    "        L = L.cdr()\n",
    "    return n\n",
    "\n",
    "\n",
    "def recherche(x, L):\n",
    "    while L != None and not (x == L.car()):\n",
    "        L = L.cdr()\n",
    "    return L != None"
   ]
  },
  {
   "cell_type": "code",
   "execution_count": 55,
   "metadata": {
    "ExecuteTime": {
     "end_time": "2019-05-24T17:04:31.982323Z",
     "start_time": "2019-05-24T17:04:31.978882Z"
    }
   },
   "outputs": [
    {
     "data": {
      "text/plain": [
       "3"
      ]
     },
     "execution_count": 55,
     "metadata": {},
     "output_type": "execute_result"
    }
   ],
   "source": [
    "longueur(L)"
   ]
  },
  {
   "cell_type": "code",
   "execution_count": 56,
   "metadata": {
    "ExecuteTime": {
     "end_time": "2019-05-24T17:04:32.169595Z",
     "start_time": "2019-05-24T17:04:32.166030Z"
    }
   },
   "outputs": [
    {
     "data": {
      "text/plain": [
       "(False, True)"
      ]
     },
     "execution_count": 56,
     "metadata": {},
     "output_type": "execute_result"
    }
   ],
   "source": [
    "recherche(5,L),recherche(22,L)"
   ]
  },
  {
   "cell_type": "markdown",
   "metadata": {},
   "source": [
    "Une autre implémentation est possible, via les \"listes\" de Python, bien sûr. Mais il y en a bien d'autres !"
   ]
  },
  {
   "cell_type": "markdown",
   "metadata": {},
   "source": [
    "## Bibliographie\n",
    "\n",
    "[Types de données et algorithmes – Christine Froidevaux, Marie-Claude Gaudel et Michèle Soria](https://www.lri.fr/~mcg/PDF/FroidevauxGaudelSoria.pdf)\n",
    "\n",
    "[Algorithms, 4th Edition – \n",
    "Robert Sedgewick](https://algs4.cs.princeton.edu/home/)\n",
    "\n",
    "[Algorithmique\n",
    "Types de données abstraits – Florent Hivert, Univ. Paris Sud](https://www.lri.fr/~hivert/COURS/CFA-L3/05-TDA.pdf)\n",
    "\n",
    "[Algorithmique\n",
    "Cristina Sirangelo, ENS-Cachan](http://www.dptinfo.ens-cachan.fr/Agregation/Algo13-14/structures.pdf)"
   ]
  }
 ],
 "metadata": {
  "kernelspec": {
   "display_name": "Python 3",
   "language": "python",
   "name": "python3"
  },
  "language_info": {
   "codemirror_mode": {
    "name": "ipython",
    "version": 3
   },
   "file_extension": ".py",
   "mimetype": "text/x-python",
   "name": "python",
   "nbconvert_exporter": "python",
   "pygments_lexer": "ipython3",
   "version": "3.6.7"
  }
 },
 "nbformat": 4,
 "nbformat_minor": 2
}
