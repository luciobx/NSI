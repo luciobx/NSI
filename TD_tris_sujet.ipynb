{
 "cells": [
  {
   "cell_type": "markdown",
   "metadata": {},
   "source": [
    "# TD : algorithmes de tris : mesure des temps de calcul"
   ]
  },
  {
   "cell_type": "markdown",
   "metadata": {},
   "source": [
    "# 1) Rappels sur le tri par insertion  ![img jeu_cartes](http://www.nsi.saintdominique-pau.fr/documents/TD_tris/jeu_cartes_insertion.png)"
   ]
  },
  {
   "cell_type": "markdown",
   "metadata": {},
   "source": [
    "Rappel : dans le tri par insertion, le tableau se sépare en deux parties : \n",
    "- ce qui est déjà trié est à gauche (au début, il n'y a qu'un nombre, le premier du tableau)\n",
    "- ce qui n'est pas encore trié est à droite.\n",
    "\n",
    "A chaque étape, on prend le premier nombre de la partie droite, et on va l'insérer exactement à sa juste place dans la partie gauche. Pour cela, on balaie la partie déjà triée de droite à gauche jusqu'à trouver la \"juste\" place, en décalant les éléments du tableau d'un cran vers la droite au fur et à mesure.\n",
    "\n",
    "![img mécanisme_insertion](http://www.nsi.saintdominique-pau.fr/documents/TD_tris/mecanisme_insertion.png)\n",
    "\n",
    "L'algorithme doit donc opérer des décalages successifs vers la droite avant d'insérer l'élément à la bonne place.\n",
    "\n",
    "![img schéma_insertion](http://www.nsi.saintdominique-pau.fr/documents/TD_tris/schema_insertion.png)\n",
    "\n",
    "On obtient donc l'algorithme suivant :\n",
    "\n",
    "![img algo_insertion](http://www.nsi.saintdominique-pau.fr/documents/TD_tris/algo_insertion.png)\n",
    "\n"
   ]
  },
  {
   "cell_type": "markdown",
   "metadata": {},
   "source": [
    "# 2) Programmation du tri par insertion"
   ]
  },
  {
   "cell_type": "markdown",
   "metadata": {},
   "source": [
    "_Commencez par charger les fichiers techniques en exécutant la cellule suivante_"
   ]
  },
  {
   "cell_type": "code",
   "execution_count": 1,
   "metadata": {},
   "outputs": [],
   "source": [
    "import os\n",
    "rep=os.getcwd()\n",
    "#dans la ligne suivante : remplacez 11 par 13 si vous êtes en 1ère3 !!!\n",
    "#os.chdir('R:/ELEVES-11/NSI/TD_tris') \n",
    "from temp import *\n",
    "os.chdir(rep)"
   ]
  },
  {
   "cell_type": "markdown",
   "metadata": {},
   "source": [
    "**<font color='red'>A vous : complétez le corps de la fonction <code>tri_insertion(t)</code> qui prend en argument un tableau d'entiers et _renvoie_ le tableau trié par ordre croissant avec le tri par insertion. </font>**\n",
    "\n",
    "**ATTENTION** : en Python, contrairement au langage naturel, les tableaux sont numérotés à partir de 0..."
   ]
  },
  {
   "cell_type": "code",
   "execution_count": null,
   "metadata": {},
   "outputs": [],
   "source": [
    "def tri_insertion(t):\n",
    "    pass\n",
    "            "
   ]
  },
  {
   "cell_type": "markdown",
   "metadata": {},
   "source": [
    "**<font color='red'>Testez votre fonction en exécutant la cellule de code suivante (qui appelle la correction automatique)</font>**"
   ]
  },
  {
   "cell_type": "code",
   "execution_count": null,
   "metadata": {},
   "outputs": [],
   "source": [
    "exo1.correction(tri_insertion)"
   ]
  },
  {
   "cell_type": "markdown",
   "metadata": {},
   "source": [
    "# 3) Temps de calcul"
   ]
  },
  {
   "cell_type": "markdown",
   "metadata": {},
   "source": [
    "Vous allez calculer le temps de calcul de la fonction <code>tri_insertion</code> sur plusieurs tableaux de tailles croissantes."
   ]
  },
  {
   "cell_type": "markdown",
   "metadata": {},
   "source": [
    "## 3.1. Préparation des tableaux\n",
    "\n",
    "**<font color='red'>Complétez la cellule suivante pour générer les tableaux aléatoires demandés</font>**"
   ]
  },
  {
   "cell_type": "code",
   "execution_count": null,
   "metadata": {},
   "outputs": [],
   "source": [
    "from random import randint\n",
    "#génération d'un tableau de 100 entiers aléatoires entre 1 et 100\n",
    "t1 = []\n",
    "#génération d'un tableau de 200 entiers aléatoires entre 1 et 500\n",
    "t2 = []\n",
    "#génération d'un tableau de 500 entiers aléatoires entre 1 et 1000\n",
    "t3 = []\n",
    "#génération d'un tableau de 1000 entiers aléatoires entre 1 et 3000\n",
    "t4 = []\n",
    "#génération d'un tableau de 10_000 entiers aléatoires entre 1 et 50_000\n",
    "t5 = []\n"
   ]
  },
  {
   "cell_type": "markdown",
   "metadata": {},
   "source": [
    "## 3.2. Mesure du temps d'exécution\n",
    "\n",
    "On peut utiliser la fonction <code>perf_counter</code> du module <code>time</code> pour mesurer le temps d'exécution.\n",
    "\n",
    "Par défaut, les valeurs sont en secondes. Il est conseillé de multiplier par 1000 pour avoir des millisecondes, ce qui correspond plus aux ordre de grandeur manipulés sur de petits tableaux."
   ]
  },
  {
   "cell_type": "code",
   "execution_count": null,
   "metadata": {},
   "outputs": [],
   "source": [
    "from time import *\n",
    "time1 =perf_counter()\n",
    "#code à exécuter\n",
    "resultat = tri_insertion([6,5,4,3,2,1])\n",
    "time2 = perf_counter()\n",
    "print(1000*(time2 - time1))"
   ]
  },
  {
   "cell_type": "markdown",
   "metadata": {},
   "source": [
    "### A vous : \n",
    "\n",
    "**<font color='red'>Mesurez les temps d'exécution (en millisecondes) pour les tableaux t1 à t5 construits plus haut.</font>**\n",
    "\n",
    "<font color='red'> Notez vos résultats expérimentaux ici : \n",
    "- pour t1 : ...............\n",
    "- pour t2 : ...............\n",
    "- pour t3 : ...............\n",
    "- pour t4 : ...............\n",
    "- pour t5 : ...............</font>\n",
    "\n",
    "**Comparaison avec la théorie** : \n",
    "- entre t3 et t4, la taille est multipliée par 2. Etant donnée la complexité du tri par insertion, **<font color='red'>par combien s'attend-on à voir multiplié le temps de calcul ? Est-ce le cas sur les mesures expérimentales ? ........ </font>**\n",
    "- Même question entre t4 et t5, où la taille est multipliée par 10."
   ]
  },
  {
   "cell_type": "code",
   "execution_count": null,
   "metadata": {},
   "outputs": [],
   "source": [
    "#mesure des temps d'exécution pour les tableaux t1 à t5\n",
    "#à vous !"
   ]
  },
  {
   "cell_type": "markdown",
   "metadata": {},
   "source": [
    "## 3.3. Tracé des temps d'exécution"
   ]
  },
  {
   "cell_type": "markdown",
   "metadata": {},
   "source": [
    "Dans cette partie, on va calculer les performances sur un plus grand nombre de tableaux, et tracer les temps obtenus avec<code>matplotlib</code>"
   ]
  },
  {
   "cell_type": "markdown",
   "metadata": {},
   "source": [
    "### 3.3.1 Préparation des données"
   ]
  },
  {
   "cell_type": "markdown",
   "metadata": {},
   "source": [
    "**<font color='red'>Exécutez la cellule ci-dessous qui génère des tableaux aléatoires de tailles croissantes. </font>**\n",
    "\n",
    "- **<font color='red'>Combien de tableaux sont générés ? ........</font>**\n",
    "- **<font color='red'>Quelle est la taille du plus petit tableau ? Du plus grand ? ..............</font>**"
   ]
  },
  {
   "cell_type": "code",
   "execution_count": null,
   "metadata": {},
   "outputs": [],
   "source": [
    "#génération tableaux aléatoires de tailles croissantes\n",
    "tableaux = []\n",
    "liste_tailles = []\n",
    "for i in range(1,101):\n",
    "    taille = 100*i\n",
    "    #print(taille)\n",
    "    liste_tailles.append(taille)\n",
    "    t = [randint(1,100_000) for i in range(taille)]\n",
    "    tableaux.append(t)\n"
   ]
  },
  {
   "cell_type": "markdown",
   "metadata": {},
   "source": [
    "### 3.3.2. Mesure des temps et stockage dans une liste"
   ]
  },
  {
   "cell_type": "markdown",
   "metadata": {},
   "source": [
    "**<font color='red'>Dans la cellule ci-dessous, complétez la liste <code>liste_temps</code> en ajoutant au fur et à mesure les temps de calcul pour le tri par insertion appliqué aux tableaux de la liste <code>tableaux</code></font>**"
   ]
  },
  {
   "cell_type": "code",
   "execution_count": null,
   "metadata": {},
   "outputs": [],
   "source": [
    "liste_temps = []\n",
    "for t in tableaux:\n",
    "    #à vous\n",
    "\n",
    "    "
   ]
  },
  {
   "cell_type": "markdown",
   "metadata": {},
   "source": [
    "### 3.3.3. Tracé de la courbe"
   ]
  },
  {
   "cell_type": "markdown",
   "metadata": {},
   "source": [
    "**<font color='red'>Exécutez la cellule ci-dessous qui trace la courbe des temps de calcul en fonction de la taille du tableau</font>**"
   ]
  },
  {
   "cell_type": "code",
   "execution_count": null,
   "metadata": {},
   "outputs": [],
   "source": [
    "import matplotlib.pyplot as plt\n",
    "%matplotlib inline\n",
    "plt.ion()\n",
    "\n",
    "#les abscisses sont les tailles des tableaux (liste_tailles)\n",
    "#les ordonnées seront les temps de calcul\n",
    "\n",
    "plt.plot(liste_tailles, liste_temps)\n",
    "plt.show()\n"
   ]
  },
  {
   "cell_type": "markdown",
   "metadata": {},
   "source": [
    "# 4) Tri par sélection \n",
    "![jeu_cartes_sélection](http://www.nsi.saintdominique-pau.fr/documents/TD_tris/jeu_cartes_sélection.png)"
   ]
  },
  {
   "cell_type": "markdown",
   "metadata": {},
   "source": [
    "## 4.1. Rappels\n",
    "Rappel : dans le tri par sélection, le tableau se sépare aussi en deux parties : \n",
    "- ce qui est déjà trié est à gauche (au début, il n'y a qu'un nombre, le premier du tableau)\n",
    "- ce qui n'est pas encore trié est à droite.\n",
    "\n",
    "A chaque étape, on prend le **plus petit nombre** de la partie droite, et on va le placer à la suite des éléments déjà triés. \n",
    "\n",
    "Pour cela, on balaie la partie non triée vers la droite pour trouver le minimum, puis une fois qu'on l'a trouvé, on permute avec le nombre le plus à gauche de cette partie droite.\n",
    "\n",
    "![img mécanisme_sélection](http://www.nsi.saintdominique-pau.fr/documents/TD_tris/mecanisme_sélection.png)\n",
    "\n",
    "L'algorithme doit donc opérer des comparaisons successives pour déterminer le minimum, afin de sélectionner le bon élément.\n",
    "\n",
    "![img schéma_sélection](http://www.nsi.saintdominique-pau.fr/documents/TD_tris/schema_sélection.png)\n",
    "\n",
    "On obtient donc l'algorithme suivant :\n",
    "\n",
    "![img algo_sélection](http://www.nsi.saintdominique-pau.fr/documents/TD_tris/algo_sélection.png)"
   ]
  },
  {
   "cell_type": "markdown",
   "metadata": {},
   "source": [
    "## 4.2. Programmation du tri par sélection"
   ]
  },
  {
   "cell_type": "markdown",
   "metadata": {},
   "source": [
    "**<font color='red'>A vous : complétez le corps de la fonction <code>tri_selection(t)</code> qui prend en argument un tableau d'entiers et renvoie le tableau trié par ordre croissant avec le tri par insertion. </font>**\n",
    "\n",
    "**ATTENTION** : en Python, contrairement au langage naturel, les tableaux sont numérotés à partir de 0..."
   ]
  },
  {
   "cell_type": "code",
   "execution_count": 2,
   "metadata": {},
   "outputs": [],
   "source": [
    "def tri_selection(t):\n",
    "    pass"
   ]
  },
  {
   "cell_type": "markdown",
   "metadata": {},
   "source": [
    "**<font color='red'>Testez votre fonction en exécutant la cellule de code suivante (qui appelle la correction automatique)</font>**"
   ]
  },
  {
   "cell_type": "code",
   "execution_count": 3,
   "metadata": {},
   "outputs": [
    {
     "data": {
      "text/html": [
       "<table style='font-family:monospace;font-size:small;'><tr style='font-family:monospace;font-size:medium;'><th style='text-align: center;'><pre>Appel</pre></th><th style='text-align: center;'><pre>Attendu</pre></th><th style='text-align: center;'><pre>Obtenu</pre></th><th style='text-align: center;'><pre></pre></th></tr><tr style='background-color:#d6e9ce;border-bottom:2px solid gray;'><td><pre>tri_selection([43, 85, 4, 84, 58])</pre></td><td style='text-align: left;border-left:3px solid gray;'><pre>\n",
       "[4, 43, 58, 84, 85]</pre></td><td style='text-align: left;border-left:1px solid gray;'><pre>\n",
       "[4, 43, 58, 84, 85]</pre></td><td style='border-left:3px solid gray;'><pre>OK</pre></td></tr><tr style='background-color:#d6e9ce;border-bottom:2px solid gray;'><td><pre>tri_selection([4, 98, 70, 25, 18])</pre></td><td style='text-align: left;border-left:3px solid gray;'><pre>\n",
       "[4, 18, 25, 70, 98]</pre></td><td style='text-align: left;border-left:1px solid gray;'><pre>\n",
       "[4, 18, 25, 70, 98]</pre></td><td style='border-left:3px solid gray;'><pre>OK</pre></td></tr><tr style='background-color:#d6e9ce;border-bottom:2px solid gray;'><td><pre>tri_selection([94, 27, 4, 77, 51])</pre></td><td style='text-align: left;border-left:3px solid gray;'><pre>\n",
       "[4, 27, 51, 77, 94]</pre></td><td style='text-align: left;border-left:1px solid gray;'><pre>\n",
       "[4, 27, 51, 77, 94]</pre></td><td style='border-left:3px solid gray;'><pre>OK</pre></td></tr><tr style='background-color:#d6e9ce;border-bottom:2px solid gray;'><td><pre>tri_selection([5])</pre></td><td style='text-align: left;border-left:3px solid gray;'><pre>\n",
       "[5]</pre></td><td style='text-align: left;border-left:1px solid gray;'><pre>\n",
       "[5]</pre></td><td style='border-left:3px solid gray;'><pre>OK</pre></td></tr><tr style='background-color:#d6e9ce;border-bottom:2px solid gray;'><td><pre>tri_selection([16, 17, 18, 19, 20])</pre></td><td style='text-align: left;border-left:3px solid gray;'><pre>\n",
       "[16, 17, 18, 19, 20]</pre></td><td style='text-align: left;border-left:1px solid gray;'><pre>\n",
       "[16, 17, 18, 19, 20]</pre></td><td style='border-left:3px solid gray;'><pre>OK</pre></td></tr><tr style='background-color:#d6e9ce;border-bottom:2px solid gray;'><td><pre>tri_selection([150, 150, 1, 1, 1])</pre></td><td style='text-align: left;border-left:3px solid gray;'><pre>\n",
       "[1, 1, 1, 150, 150]</pre></td><td style='text-align: left;border-left:1px solid gray;'><pre>\n",
       "[1, 1, 1, 150, 150]</pre></td><td style='border-left:3px solid gray;'><pre>OK</pre></td></tr><tr style='background-color:#d6e9ce;border-bottom:2px solid gray;'><td><pre>tri_selection([5, 4, 3, 2, 1])</pre></td><td style='text-align: left;border-left:3px solid gray;'><pre>\n",
       "[1, 2, 3, 4, 5]</pre></td><td style='text-align: left;border-left:1px solid gray;'><pre>\n",
       "[1, 2, 3, 4, 5]</pre></td><td style='border-left:3px solid gray;'><pre>OK</pre></td></tr></table>"
      ],
      "text/plain": [
       "<IPython.core.display.HTML object>"
      ]
     },
     "execution_count": 3,
     "metadata": {},
     "output_type": "execute_result"
    }
   ],
   "source": [
    "exo2.correction(tri_selection)\n",
    "#tri_selection([74,4,21,24,20])"
   ]
  },
  {
   "cell_type": "markdown",
   "metadata": {},
   "source": [
    "##  4.3. Temps de calcul"
   ]
  },
  {
   "cell_type": "markdown",
   "metadata": {},
   "source": [
    "**<font color='red'>Reprenez la même démarche que pour le tri insertion et vérifiez l'allure quadratique de la courbe des temps de calcul.</font>**\n",
    "\n",
    "Remarque : vous pouvez copier/coller des cellules en utilisant le menu Edit"
   ]
  },
  {
   "cell_type": "code",
   "execution_count": null,
   "metadata": {},
   "outputs": [],
   "source": [
    "#c'est-à-vous"
   ]
  }
 ],
 "metadata": {
  "kernelspec": {
   "display_name": "Python 3",
   "language": "python",
   "name": "python3"
  },
  "language_info": {
   "codemirror_mode": {
    "name": "ipython",
    "version": 3
   },
   "file_extension": ".py",
   "mimetype": "text/x-python",
   "name": "python",
   "nbconvert_exporter": "python",
   "pygments_lexer": "ipython3",
   "version": "3.7.4"
  }
 },
 "nbformat": 4,
 "nbformat_minor": 2
}
